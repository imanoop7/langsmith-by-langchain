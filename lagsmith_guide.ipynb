{
  "cells": [
    {
      "cell_type": "markdown",
      "metadata": {
        "id": "OzuXO2i98AJW"
      },
      "source": [
        "## Installing Requried Libraries"
      ]
    },
    {
      "cell_type": "code",
      "execution_count": 1,
      "metadata": {
        "id": "vR63rk2h8HFk"
      },
      "outputs": [],
      "source": [
        "pip install -q -U langchain langchain_openai langchain_google_genai"
      ]
    },
    {
      "cell_type": "code",
      "execution_count": 2,
      "metadata": {
        "id": "GIjmvw7y-77R"
      },
      "outputs": [],
      "source": [
        "\n",
        "from langchain_openai import ChatOpenAI\n",
        "from langchain_google_genai import ChatGoogleGenerativeAI\n",
        "from langsmith import Client\n",
        "from langchain.smith import RunEvalConfig, run_on_dataset"
      ]
    },
    {
      "cell_type": "code",
      "execution_count": 3,
      "metadata": {
        "id": "L7TSHrda829c"
      },
      "outputs": [],
      "source": [
        "from google.colab import userdata\n",
        "import os\n",
        "# LLM API KEY\n",
        "os.environ[\"GOOGLE_API_KEY\"]=userdata.get('GOOGLE_API_KEY')\n",
        "os.environ[\"OPENAI_API_KEY\"]=userdata.get('OPENAI_API_KEY')\n",
        "\n",
        "# configuring langsmith\n",
        "os.environ[\"LANGCHAIN_API_KEY\"]=userdata.get('LANGCHAIN_API_KEY')\n",
        "os.environ[\"LANGCHAIN_TRACING_V2\"] = \"true\"\n",
        "os.environ[\"LANGCHAIN_ENDPOINT\"] = \"https://api.smith.langchain.com\"\n",
        "os.environ[\"LANGCHAIN_PROJECT\"] = \"LANGSMITH-GUIDE\""
      ]
    },
    {
      "cell_type": "code",
      "execution_count": 4,
      "metadata": {
        "colab": {
          "base_uri": "https://localhost:8080/"
        },
        "id": "il5OB-fM8tfp",
        "outputId": "3d5a62ab-df6b-46fc-ebd2-7c380b7aad02"
      },
      "outputs": [
        {
          "name": "stderr",
          "output_type": "stream",
          "text": [
            "/usr/local/lib/python3.10/dist-packages/langchain_core/_api/deprecation.py:119: LangChainDeprecationWarning: The method `BaseChatModel.predict` was deprecated in langchain-core 0.1.7 and will be removed in 0.2.0. Use invoke instead.\n",
            "  warn_deprecated(\n"
          ]
        }
      ],
      "source": [
        "# Load the LangSmith Client and Test Run\n",
        "\n",
        "client = Client()\n",
        "\n",
        "llm =ChatGoogleGenerativeAI(model=\"gemini-pro\")\n",
        "output=llm.predict(\"HI, How are you ? \")"
      ]
    },
    {
      "cell_type": "code",
      "execution_count": 5,
      "metadata": {
        "colab": {
          "base_uri": "https://localhost:8080/",
          "height": 126
        },
        "id": "hKx9TYnY-Fc7",
        "outputId": "49cbff14-5d3b-447e-e842-ae3be0a920ad"
      },
      "outputs": [
        {
          "data": {
            "application/vnd.google.colaboratory.intrinsic+json": {
              "type": "string"
            },
            "text/plain": [
              "\"**Ode to the Unseen**\\n\\nIn shadows cast and whispers low,\\nA world of secrets, we may not know.\\nBeyond our sight, a realm profound,\\nWhere mysteries and wonders abound.\\n\\nThe unseen forces shape our fate,\\nGuiding our paths, both small and great.\\nSpirits dance in ethereal flight,\\nGuarding dreams and guiding our night.\\n\\nWhispers echo through the silent air,\\nMessages from realms beyond compare.\\nIntuition's voice, a gentle guide,\\nRevealing truths we cannot hide.\\n\\nIn dreams, we glimpse the unseen land,\\nWhere memories and futures intertwine, hand in hand.\\nSymbols and visions, cryptic and deep,\\nUnveiling secrets we seek to keep.\\n\\nThough unseen, its presence we can feel,\\nIn whispers of the wind, the ocean's swell.\\nIn moments of awe and inspiration's fire,\\nThe unseen world touches our desire.\\n\\nSo let us embrace the mystery's embrace,\\nAnd seek the wonders hidden in this space.\\nFor in the unseen, we find our way,\\nTo a realm where dreams and truths hold sway.\""
            ]
          },
          "execution_count": 5,
          "metadata": {},
          "output_type": "execute_result"
        }
      ],
      "source": [
        "# Tracing with langchain\n",
        "llm.predict(\"write a poem...\")\n"
      ]
    },
    {
      "cell_type": "code",
      "execution_count": 6,
      "metadata": {
        "id": "xC7IISLhBsyp"
      },
      "outputs": [],
      "source": [
        "# 1. Create a Dataset From a List of Examples (Key-Value Pairs)\n",
        "\n",
        "example_inputs = [\n",
        "    (\"What is the largest mammal?\", \"The blue whale\"),\n",
        "    (\"What do mammals and birds have in common?\", \"They are both warm-blooded\"),\n",
        "    (\"What are reptiles known for?\", \"Having scales\"),\n",
        "    (\n",
        "        \"What's the main characteristic of amphibians?\",\n",
        "        \"They live both in water and on land\",\n",
        "    ),\n",
        "]\n",
        "\n",
        "dataset_name = \"Elementary Animal Questions\"\n",
        "\n",
        "dataset = client.create_dataset(\n",
        "    dataset_name=dataset_name,\n",
        "    description=\"Questions and answers about animal phylogenetics.\",\n",
        ")\n",
        "\n",
        "for input_prompt, output_answer in example_inputs:\n",
        "    client.create_example(\n",
        "        inputs={\"question\": input_prompt},\n",
        "        outputs={\"answer\": output_answer},\n",
        "        dataset_id=dataset.id,\n",
        "    )"
      ]
    },
    {
      "cell_type": "code",
      "execution_count": 10,
      "metadata": {
        "id": "ziW2geXRJH7E"
      },
      "outputs": [],
      "source": [
        "# 2. Create a Dataset From Existing Runs\n",
        "\n",
        "dataset_name = \"Existing Dataset Example\"\n",
        "\n",
        "# Filter runs to add to the dataset\n",
        "runs = client.list_runs(\n",
        "    project_name=\"TEST LLM\",\n",
        "    execution_order=1,\n",
        "    error=False,\n",
        ")\n",
        "\n",
        "dataset = client.create_dataset(dataset_name, description=\"An example dataset\")\n",
        "\n",
        "for run in runs:\n",
        "    client.create_example(\n",
        "        inputs=run.inputs,\n",
        "        outputs=run.outputs,\n",
        "        dataset_id=dataset.id,\n",
        "    )"
      ]
    },
    {
      "cell_type": "code",
      "execution_count": 12,
      "metadata": {
        "colab": {
          "base_uri": "https://localhost:8080/",
          "height": 174
        },
        "id": "WFTutYCYKFS8",
        "outputId": "441ac253-c473-4327-8b95-77c63e6328c5"
      },
      "outputs": [
        {
          "data": {
            "application/vnd.google.colaboratory.intrinsic+json": {
              "summary": "{\n  \"name\": \"df_dataset\",\n  \"rows\": 4,\n  \"fields\": [\n    {\n      \"column\": \"Question\",\n      \"properties\": {\n        \"dtype\": \"string\",\n        \"num_unique_values\": 4,\n        \"samples\": [\n          \"What do mammals and birds have in common?\",\n          \"What's the main characteristic of amphibians?\",\n          \"What is the largest mammal?\"\n        ],\n        \"semantic_type\": \"\",\n        \"description\": \"\"\n      }\n    },\n    {\n      \"column\": \"Answer\",\n      \"properties\": {\n        \"dtype\": \"string\",\n        \"num_unique_values\": 4,\n        \"samples\": [\n          \"They are both warm-blooded\",\n          \"They live both in water and on land\",\n          \"The blue whale\"\n        ],\n        \"semantic_type\": \"\",\n        \"description\": \"\"\n      }\n    }\n  ]\n}",
              "type": "dataframe",
              "variable_name": "df_dataset"
            },
            "text/html": [
              "\n",
              "  <div id=\"df-de76fe0a-03b1-4126-991d-aa203629cfeb\" class=\"colab-df-container\">\n",
              "    <div>\n",
              "<style scoped>\n",
              "    .dataframe tbody tr th:only-of-type {\n",
              "        vertical-align: middle;\n",
              "    }\n",
              "\n",
              "    .dataframe tbody tr th {\n",
              "        vertical-align: top;\n",
              "    }\n",
              "\n",
              "    .dataframe thead th {\n",
              "        text-align: right;\n",
              "    }\n",
              "</style>\n",
              "<table border=\"1\" class=\"dataframe\">\n",
              "  <thead>\n",
              "    <tr style=\"text-align: right;\">\n",
              "      <th></th>\n",
              "      <th>Question</th>\n",
              "      <th>Answer</th>\n",
              "    </tr>\n",
              "  </thead>\n",
              "  <tbody>\n",
              "    <tr>\n",
              "      <th>0</th>\n",
              "      <td>What is the largest mammal?</td>\n",
              "      <td>The blue whale</td>\n",
              "    </tr>\n",
              "    <tr>\n",
              "      <th>1</th>\n",
              "      <td>What do mammals and birds have in common?</td>\n",
              "      <td>They are both warm-blooded</td>\n",
              "    </tr>\n",
              "    <tr>\n",
              "      <th>2</th>\n",
              "      <td>What are reptiles known for?</td>\n",
              "      <td>Having scales</td>\n",
              "    </tr>\n",
              "    <tr>\n",
              "      <th>3</th>\n",
              "      <td>What's the main characteristic of amphibians?</td>\n",
              "      <td>They live both in water and on land</td>\n",
              "    </tr>\n",
              "  </tbody>\n",
              "</table>\n",
              "</div>\n",
              "    <div class=\"colab-df-buttons\">\n",
              "\n",
              "  <div class=\"colab-df-container\">\n",
              "    <button class=\"colab-df-convert\" onclick=\"convertToInteractive('df-de76fe0a-03b1-4126-991d-aa203629cfeb')\"\n",
              "            title=\"Convert this dataframe to an interactive table.\"\n",
              "            style=\"display:none;\">\n",
              "\n",
              "  <svg xmlns=\"http://www.w3.org/2000/svg\" height=\"24px\" viewBox=\"0 -960 960 960\">\n",
              "    <path d=\"M120-120v-720h720v720H120Zm60-500h600v-160H180v160Zm220 220h160v-160H400v160Zm0 220h160v-160H400v160ZM180-400h160v-160H180v160Zm440 0h160v-160H620v160ZM180-180h160v-160H180v160Zm440 0h160v-160H620v160Z\"/>\n",
              "  </svg>\n",
              "    </button>\n",
              "\n",
              "  <style>\n",
              "    .colab-df-container {\n",
              "      display:flex;\n",
              "      gap: 12px;\n",
              "    }\n",
              "\n",
              "    .colab-df-convert {\n",
              "      background-color: #E8F0FE;\n",
              "      border: none;\n",
              "      border-radius: 50%;\n",
              "      cursor: pointer;\n",
              "      display: none;\n",
              "      fill: #1967D2;\n",
              "      height: 32px;\n",
              "      padding: 0 0 0 0;\n",
              "      width: 32px;\n",
              "    }\n",
              "\n",
              "    .colab-df-convert:hover {\n",
              "      background-color: #E2EBFA;\n",
              "      box-shadow: 0px 1px 2px rgba(60, 64, 67, 0.3), 0px 1px 3px 1px rgba(60, 64, 67, 0.15);\n",
              "      fill: #174EA6;\n",
              "    }\n",
              "\n",
              "    .colab-df-buttons div {\n",
              "      margin-bottom: 4px;\n",
              "    }\n",
              "\n",
              "    [theme=dark] .colab-df-convert {\n",
              "      background-color: #3B4455;\n",
              "      fill: #D2E3FC;\n",
              "    }\n",
              "\n",
              "    [theme=dark] .colab-df-convert:hover {\n",
              "      background-color: #434B5C;\n",
              "      box-shadow: 0px 1px 3px 1px rgba(0, 0, 0, 0.15);\n",
              "      filter: drop-shadow(0px 1px 2px rgba(0, 0, 0, 0.3));\n",
              "      fill: #FFFFFF;\n",
              "    }\n",
              "  </style>\n",
              "\n",
              "    <script>\n",
              "      const buttonEl =\n",
              "        document.querySelector('#df-de76fe0a-03b1-4126-991d-aa203629cfeb button.colab-df-convert');\n",
              "      buttonEl.style.display =\n",
              "        google.colab.kernel.accessAllowed ? 'block' : 'none';\n",
              "\n",
              "      async function convertToInteractive(key) {\n",
              "        const element = document.querySelector('#df-de76fe0a-03b1-4126-991d-aa203629cfeb');\n",
              "        const dataTable =\n",
              "          await google.colab.kernel.invokeFunction('convertToInteractive',\n",
              "                                                    [key], {});\n",
              "        if (!dataTable) return;\n",
              "\n",
              "        const docLinkHtml = 'Like what you see? Visit the ' +\n",
              "          '<a target=\"_blank\" href=https://colab.research.google.com/notebooks/data_table.ipynb>data table notebook</a>'\n",
              "          + ' to learn more about interactive tables.';\n",
              "        element.innerHTML = '';\n",
              "        dataTable['output_type'] = 'display_data';\n",
              "        await google.colab.output.renderOutput(dataTable, element);\n",
              "        const docLink = document.createElement('div');\n",
              "        docLink.innerHTML = docLinkHtml;\n",
              "        element.appendChild(docLink);\n",
              "      }\n",
              "    </script>\n",
              "  </div>\n",
              "\n",
              "\n",
              "<div id=\"df-d5d5d89e-05a8-4627-97cf-79f25328d3ce\">\n",
              "  <button class=\"colab-df-quickchart\" onclick=\"quickchart('df-d5d5d89e-05a8-4627-97cf-79f25328d3ce')\"\n",
              "            title=\"Suggest charts\"\n",
              "            style=\"display:none;\">\n",
              "\n",
              "<svg xmlns=\"http://www.w3.org/2000/svg\" height=\"24px\"viewBox=\"0 0 24 24\"\n",
              "     width=\"24px\">\n",
              "    <g>\n",
              "        <path d=\"M19 3H5c-1.1 0-2 .9-2 2v14c0 1.1.9 2 2 2h14c1.1 0 2-.9 2-2V5c0-1.1-.9-2-2-2zM9 17H7v-7h2v7zm4 0h-2V7h2v10zm4 0h-2v-4h2v4z\"/>\n",
              "    </g>\n",
              "</svg>\n",
              "  </button>\n",
              "\n",
              "<style>\n",
              "  .colab-df-quickchart {\n",
              "      --bg-color: #E8F0FE;\n",
              "      --fill-color: #1967D2;\n",
              "      --hover-bg-color: #E2EBFA;\n",
              "      --hover-fill-color: #174EA6;\n",
              "      --disabled-fill-color: #AAA;\n",
              "      --disabled-bg-color: #DDD;\n",
              "  }\n",
              "\n",
              "  [theme=dark] .colab-df-quickchart {\n",
              "      --bg-color: #3B4455;\n",
              "      --fill-color: #D2E3FC;\n",
              "      --hover-bg-color: #434B5C;\n",
              "      --hover-fill-color: #FFFFFF;\n",
              "      --disabled-bg-color: #3B4455;\n",
              "      --disabled-fill-color: #666;\n",
              "  }\n",
              "\n",
              "  .colab-df-quickchart {\n",
              "    background-color: var(--bg-color);\n",
              "    border: none;\n",
              "    border-radius: 50%;\n",
              "    cursor: pointer;\n",
              "    display: none;\n",
              "    fill: var(--fill-color);\n",
              "    height: 32px;\n",
              "    padding: 0;\n",
              "    width: 32px;\n",
              "  }\n",
              "\n",
              "  .colab-df-quickchart:hover {\n",
              "    background-color: var(--hover-bg-color);\n",
              "    box-shadow: 0 1px 2px rgba(60, 64, 67, 0.3), 0 1px 3px 1px rgba(60, 64, 67, 0.15);\n",
              "    fill: var(--button-hover-fill-color);\n",
              "  }\n",
              "\n",
              "  .colab-df-quickchart-complete:disabled,\n",
              "  .colab-df-quickchart-complete:disabled:hover {\n",
              "    background-color: var(--disabled-bg-color);\n",
              "    fill: var(--disabled-fill-color);\n",
              "    box-shadow: none;\n",
              "  }\n",
              "\n",
              "  .colab-df-spinner {\n",
              "    border: 2px solid var(--fill-color);\n",
              "    border-color: transparent;\n",
              "    border-bottom-color: var(--fill-color);\n",
              "    animation:\n",
              "      spin 1s steps(1) infinite;\n",
              "  }\n",
              "\n",
              "  @keyframes spin {\n",
              "    0% {\n",
              "      border-color: transparent;\n",
              "      border-bottom-color: var(--fill-color);\n",
              "      border-left-color: var(--fill-color);\n",
              "    }\n",
              "    20% {\n",
              "      border-color: transparent;\n",
              "      border-left-color: var(--fill-color);\n",
              "      border-top-color: var(--fill-color);\n",
              "    }\n",
              "    30% {\n",
              "      border-color: transparent;\n",
              "      border-left-color: var(--fill-color);\n",
              "      border-top-color: var(--fill-color);\n",
              "      border-right-color: var(--fill-color);\n",
              "    }\n",
              "    40% {\n",
              "      border-color: transparent;\n",
              "      border-right-color: var(--fill-color);\n",
              "      border-top-color: var(--fill-color);\n",
              "    }\n",
              "    60% {\n",
              "      border-color: transparent;\n",
              "      border-right-color: var(--fill-color);\n",
              "    }\n",
              "    80% {\n",
              "      border-color: transparent;\n",
              "      border-right-color: var(--fill-color);\n",
              "      border-bottom-color: var(--fill-color);\n",
              "    }\n",
              "    90% {\n",
              "      border-color: transparent;\n",
              "      border-bottom-color: var(--fill-color);\n",
              "    }\n",
              "  }\n",
              "</style>\n",
              "\n",
              "  <script>\n",
              "    async function quickchart(key) {\n",
              "      const quickchartButtonEl =\n",
              "        document.querySelector('#' + key + ' button');\n",
              "      quickchartButtonEl.disabled = true;  // To prevent multiple clicks.\n",
              "      quickchartButtonEl.classList.add('colab-df-spinner');\n",
              "      try {\n",
              "        const charts = await google.colab.kernel.invokeFunction(\n",
              "            'suggestCharts', [key], {});\n",
              "      } catch (error) {\n",
              "        console.error('Error during call to suggestCharts:', error);\n",
              "      }\n",
              "      quickchartButtonEl.classList.remove('colab-df-spinner');\n",
              "      quickchartButtonEl.classList.add('colab-df-quickchart-complete');\n",
              "    }\n",
              "    (() => {\n",
              "      let quickchartButtonEl =\n",
              "        document.querySelector('#df-d5d5d89e-05a8-4627-97cf-79f25328d3ce button');\n",
              "      quickchartButtonEl.style.display =\n",
              "        google.colab.kernel.accessAllowed ? 'block' : 'none';\n",
              "    })();\n",
              "  </script>\n",
              "</div>\n",
              "\n",
              "    </div>\n",
              "  </div>\n"
            ],
            "text/plain": [
              "                                        Question  \\\n",
              "0                    What is the largest mammal?   \n",
              "1      What do mammals and birds have in common?   \n",
              "2                   What are reptiles known for?   \n",
              "3  What's the main characteristic of amphibians?   \n",
              "\n",
              "                                Answer  \n",
              "0                       The blue whale  \n",
              "1           They are both warm-blooded  \n",
              "2                        Having scales  \n",
              "3  They live both in water and on land  "
            ]
          },
          "execution_count": 12,
          "metadata": {},
          "output_type": "execute_result"
        }
      ],
      "source": [
        "# 3. Create a Dataset From a Dataframe\n",
        "\n",
        "# Create a Dataframe\n",
        "import pandas as pd\n",
        "\n",
        "example_inputs = [\n",
        "    (\"What is the largest mammal?\", \"The blue whale\"),\n",
        "    (\"What do mammals and birds have in common?\", \"They are both warm-blooded\"),\n",
        "    (\"What are reptiles known for?\", \"Having scales\"),\n",
        "    (\n",
        "        \"What's the main characteristic of amphibians?\",\n",
        "        \"They live both in water and on land\",\n",
        "    ),\n",
        "]\n",
        "\n",
        "df_dataset = pd.DataFrame(example_inputs, columns=[\"Question\", \"Answer\"])\n",
        "df_dataset.head()"
      ]
    },
    {
      "cell_type": "code",
      "execution_count": 14,
      "metadata": {
        "id": "Mxxxrg0zLOcG"
      },
      "outputs": [],
      "source": [
        "input_keys = [\"Question\"]\n",
        "output_keys = [\"Answer\"]\n",
        "\n",
        "# Create Dataset\n",
        "\n",
        "dataset = client.upload_dataframe(\n",
        "    df=df_dataset,\n",
        "    input_keys=input_keys,\n",
        "    output_keys=output_keys,\n",
        "    name=\"Dataframe\",\n",
        "    description=\"Dataset created from a dataframe\",\n",
        "    data_type=\"kv\", )"
      ]
    },
    {
      "cell_type": "code",
      "execution_count": 17,
      "metadata": {
        "id": "5BevNg_gLW5K"
      },
      "outputs": [],
      "source": [
        "# 4. Create a Dataset From a CSV File\n",
        "\n",
        "# Save the Dataframe as a CSV File\n",
        "\n",
        "csv_path = \"/content/Churn_Modelling.csv\"\n",
        "df_dataset.to_csv(csv_path, index=False)\n",
        "\n",
        "# Create Dataset\n",
        "\n",
        "dataset = client.upload_csv(\n",
        "    csv_file=csv_path,\n",
        "    input_keys=input_keys,\n",
        "    output_keys=output_keys,\n",
        "    name=\"CSV Dataset Example\",\n",
        "    description=\"Dataset created from a CSV file\",\n",
        "    data_type=\"kv\",\n",
        ")"
      ]
    },
    {
      "cell_type": "code",
      "execution_count": 19,
      "metadata": {
        "id": "cPIuT05GOBDC"
      },
      "outputs": [],
      "source": [
        "# 1. Create a Dataset (Only Inputs, No Output)\n",
        "\n",
        "example_inputs = [\n",
        "    \"a rap battle between Atticus Finch and Cicero\",\n",
        "    \"a rap battle between Barbie and Oppenheimer\",\n",
        "    \"a Pythonic rap battle between two swallows: one European and one African\",\n",
        "    \"a rap battle between Aubrey Plaza and Stephen Colbert\",\n",
        "]\n",
        "\n",
        "dataset_name = \"Battle Dataset\"\n",
        "\n",
        "# Storing inputs in a dataset lets us\n",
        "# run chains and LLMs over a shared set of examples.\n",
        "dataset = client.create_dataset(\n",
        "    dataset_name=dataset_name,\n",
        "    description=\"Rap battle prompts.\",\n",
        ")\n",
        "\n",
        "for input_prompt in example_inputs:\n",
        "    # Each example must be unique and have inputs defined.\n",
        "    # Outputs are optional\n",
        "    client.create_example(\n",
        "        inputs={\"question\": input_prompt},\n",
        "        outputs=None,\n",
        "        dataset_id=dataset.id,\n",
        "    )"
      ]
    },
    {
      "cell_type": "code",
      "execution_count": 20,
      "metadata": {
        "colab": {
          "base_uri": "https://localhost:8080/"
        },
        "id": "71mnhC-4MjZM",
        "outputId": "0a3d5656-cad3-4cf6-8542-e9196f129a4b"
      },
      "outputs": [
        {
          "name": "stdout",
          "output_type": "stream",
          "text": [
            "View the evaluation results for project 'helpful-grass-14' at:\n",
            "https://smith.langchain.com/o/58fe5e41-0da9-5dcc-b9ac-d4448bfd58f9/datasets/60a59af6-1206-4b53-a4bf-b39f9d97e289/compare?selectedSessions=2f5a12ac-44f4-4f8b-87fb-122d76c82c7a\n",
            "\n",
            "View all tests for Dataset Battle Dataset at:\n",
            "https://smith.langchain.com/o/58fe5e41-0da9-5dcc-b9ac-d4448bfd58f9/datasets/60a59af6-1206-4b53-a4bf-b39f9d97e289\n",
            "[>                                                 ] 0/4"
          ]
        },
        {
          "name": "stderr",
          "output_type": "stream",
          "text": [
            "WARNING:langchain.smith.evaluation.runner_utils:LLM failed for example 39ba7895-774e-4b20-a601-39397a033ac0 with inputs {'question': 'a rap battle between Aubrey Plaza and Stephen Colbert'}\n",
            "Error Type: StopCandidateException, Message: finish_reason: SAFETY\n",
            "index: 0\n",
            "safety_ratings {\n",
            "  category: HARM_CATEGORY_SEXUALLY_EXPLICIT\n",
            "  probability: NEGLIGIBLE\n",
            "}\n",
            "safety_ratings {\n",
            "  category: HARM_CATEGORY_HATE_SPEECH\n",
            "  probability: NEGLIGIBLE\n",
            "}\n",
            "safety_ratings {\n",
            "  category: HARM_CATEGORY_HARASSMENT\n",
            "  probability: MEDIUM\n",
            "}\n",
            "safety_ratings {\n",
            "  category: HARM_CATEGORY_DANGEROUS_CONTENT\n",
            "  probability: NEGLIGIBLE\n",
            "}\n",
            "\n"
          ]
        },
        {
          "name": "stdout",
          "output_type": "stream",
          "text": [
            "[------------------------------------------------->] 4/4"
          ]
        },
        {
          "data": {
            "text/plain": [
              "{'project_name': 'helpful-grass-14',\n",
              " 'results': {'39ba7895-774e-4b20-a601-39397a033ac0': {'input': {'question': 'a rap battle between Aubrey Plaza and Stephen Colbert'},\n",
              "   'feedback': [],\n",
              "   'execution_time': 11.270944,\n",
              "   'run_id': '49f74399-6703-4dd3-9e25-819747b11880',\n",
              "   'Error': google.generativeai.types.generation_types.StopCandidateException(finish_reason: SAFETY\n",
              "                                                                     index: 0\n",
              "                                                                     safety_ratings {\n",
              "                                                                       category: HARM_CATEGORY_SEXUALLY_EXPLICIT\n",
              "                                                                       probability: NEGLIGIBLE\n",
              "                                                                     }\n",
              "                                                                     safety_ratings {\n",
              "                                                                       category: HARM_CATEGORY_HATE_SPEECH\n",
              "                                                                       probability: NEGLIGIBLE\n",
              "                                                                     }\n",
              "                                                                     safety_ratings {\n",
              "                                                                       category: HARM_CATEGORY_HARASSMENT\n",
              "                                                                       probability: MEDIUM\n",
              "                                                                     }\n",
              "                                                                     safety_ratings {\n",
              "                                                                       category: HARM_CATEGORY_DANGEROUS_CONTENT\n",
              "                                                                       probability: NEGLIGIBLE\n",
              "                                                                     })},\n",
              "  '4b3844bc-2cd5-42ff-b07c-2a7714fb5daa': {'input': {'question': 'a Pythonic rap battle between two swallows: one European and one African'},\n",
              "   'feedback': [EvaluationResult(key='helpfulness', score=None, value=None, comment=\"Error evaluating run a713c118-2b5b-41ba-b171-bb42c486e93b: Error code: 401 - {'error': {'message': 'Incorrect API key provided: asjk. You can find your API key at https://platform.openai.com/account/api-keys.', 'type': 'invalid_request_error', 'param': None, 'code': 'invalid_api_key'}}\", correction=None, evaluator_info={}, feedback_config=None, source_run_id=None, target_run_id=None),\n",
              "    EvaluationResult(key='harmfulness', score=None, value=None, comment=\"Error evaluating run a713c118-2b5b-41ba-b171-bb42c486e93b: Error code: 401 - {'error': {'message': 'Incorrect API key provided: asjk. You can find your API key at https://platform.openai.com/account/api-keys.', 'type': 'invalid_request_error', 'param': None, 'code': 'invalid_api_key'}}\", correction=None, evaluator_info={}, feedback_config=None, source_run_id=None, target_run_id=None),\n",
              "    EvaluationResult(key='misogyny', score=None, value=None, comment=\"Error evaluating run a713c118-2b5b-41ba-b171-bb42c486e93b: Error code: 401 - {'error': {'message': 'Incorrect API key provided: asjk. You can find your API key at https://platform.openai.com/account/api-keys.', 'type': 'invalid_request_error', 'param': None, 'code': 'invalid_api_key'}}\", correction=None, evaluator_info={}, feedback_config=None, source_run_id=None, target_run_id=None),\n",
              "    EvaluationResult(key='cliche', score=None, value=None, comment=\"Error evaluating run a713c118-2b5b-41ba-b171-bb42c486e93b: Error code: 401 - {'error': {'message': 'Incorrect API key provided: asjk. You can find your API key at https://platform.openai.com/account/api-keys.', 'type': 'invalid_request_error', 'param': None, 'code': 'invalid_api_key'}}\", correction=None, evaluator_info={}, feedback_config=None, source_run_id=None, target_run_id=None)],\n",
              "   'execution_time': 8.361175,\n",
              "   'run_id': 'a713c118-2b5b-41ba-b171-bb42c486e93b',\n",
              "   'output': AIMessage(content=\"**Verse 1: European Swallow**\\n\\nYo, I'm the Euro, swift and sleek,\\nThrough skies I soar, a feathered streak.\\nMy tail is forked, a graceful plume,\\nAs I glide with ease, no room for gloom.\\n\\n**Verse 2: African Swallow**\\n\\nGreetings, Euro, from the African shore,\\nI'm the one with the iridescent core.\\nMy plumage shines, a vibrant hue,\\nUnderneath the sun, I'm a sight to view.\\n\\n**Verse 3: European Swallow**\\n\\nYour colors may be bright, it's true,\\nBut my speed is unmatched, I'm breaking through.\\nI migrate thousands of miles each year,\\nA tireless traveler, with no fear.\\n\\n**Verse 4: African Swallow**\\n\\nYour journeys are impressive, no doubt,\\nBut I outclass you when it comes to clout.\\nI'm the symbol of hope, a sacred bird,\\nIn African folklore, my presence is heard.\\n\\n**Verse 5: European Swallow**\\n\\nFolklore is nice, but let's talk skills,\\nI'm an aerial acrobat, with unmatched thrills.\\nI can twist and turn, with nimble grace,\\nA master of the air, in every space.\\n\\n**Verse 6: African Swallow**\\n\\nYour aerial prowess, I won't deny,\\nBut I'm known for my nesting, high and dry.\\nI build intricate nests, a work of art,\\nA safe haven for my young, a sheltered start.\\n\\n**Verse 7: European Swallow**\\n\\nYour nests are impressive, I must say,\\nBut my adaptability is here to stay.\\nI thrive in different habitats with ease,\\nFrom urban landscapes to rural trees.\\n\\n**Verse 8: African Swallow**\\n\\nOur differences make us both unique,\\nTwo swallows, united in our aerial peak.\\nSo let's celebrate our diversity,\\nIn the sky's embrace, where we soar free.\\n\\n**Chorus:**\\n\\nWe're swallows, brothers, bound by flight,\\nFrom Europe to Africa, we take our fight.\\nWith grace and speed, we rule the air,\\nA symphony of wings, beyond compare.\", response_metadata={'prompt_feedback': {'block_reason': 0, 'safety_ratings': []}, 'finish_reason': 'STOP', 'safety_ratings': [{'category': 'HARM_CATEGORY_SEXUALLY_EXPLICIT', 'probability': 'NEGLIGIBLE', 'blocked': False}, {'category': 'HARM_CATEGORY_HATE_SPEECH', 'probability': 'NEGLIGIBLE', 'blocked': False}, {'category': 'HARM_CATEGORY_HARASSMENT', 'probability': 'NEGLIGIBLE', 'blocked': False}, {'category': 'HARM_CATEGORY_DANGEROUS_CONTENT', 'probability': 'NEGLIGIBLE', 'blocked': False}]}, id='run-a713c118-2b5b-41ba-b171-bb42c486e93b-0')},\n",
              "  '0c10dc4c-3527-4ca5-bb4d-eca3290b10c4': {'input': {'question': 'a rap battle between Barbie and Oppenheimer'},\n",
              "   'feedback': [EvaluationResult(key='helpfulness', score=None, value=None, comment=\"Error evaluating run 91698adc-8455-4956-864d-ed9c515483f0: Error code: 401 - {'error': {'message': 'Incorrect API key provided: asjk. You can find your API key at https://platform.openai.com/account/api-keys.', 'type': 'invalid_request_error', 'param': None, 'code': 'invalid_api_key'}}\", correction=None, evaluator_info={}, feedback_config=None, source_run_id=None, target_run_id=None),\n",
              "    EvaluationResult(key='harmfulness', score=None, value=None, comment=\"Error evaluating run 91698adc-8455-4956-864d-ed9c515483f0: Error code: 401 - {'error': {'message': 'Incorrect API key provided: asjk. You can find your API key at https://platform.openai.com/account/api-keys.', 'type': 'invalid_request_error', 'param': None, 'code': 'invalid_api_key'}}\", correction=None, evaluator_info={}, feedback_config=None, source_run_id=None, target_run_id=None),\n",
              "    EvaluationResult(key='misogyny', score=None, value=None, comment=\"Error evaluating run 91698adc-8455-4956-864d-ed9c515483f0: Error code: 401 - {'error': {'message': 'Incorrect API key provided: asjk. You can find your API key at https://platform.openai.com/account/api-keys.', 'type': 'invalid_request_error', 'param': None, 'code': 'invalid_api_key'}}\", correction=None, evaluator_info={}, feedback_config=None, source_run_id=None, target_run_id=None),\n",
              "    EvaluationResult(key='cliche', score=None, value=None, comment=\"Error evaluating run 91698adc-8455-4956-864d-ed9c515483f0: Error code: 401 - {'error': {'message': 'Incorrect API key provided: asjk. You can find your API key at https://platform.openai.com/account/api-keys.', 'type': 'invalid_request_error', 'param': None, 'code': 'invalid_api_key'}}\", correction=None, evaluator_info={}, feedback_config=None, source_run_id=None, target_run_id=None)],\n",
              "   'execution_time': 10.346074,\n",
              "   'run_id': '91698adc-8455-4956-864d-ed9c515483f0',\n",
              "   'output': AIMessage(content=\"**Barbie:**\\n\\nYo, I'm Barbie, the plastic queen,\\nWith a perfect life, it's obscene.\\nI've got pink cars, a Malibu dream,\\nAnd a wardrobe that's the ultimate gleam.\\n\\n**Oppenheimer:**\\n\\nI'm Oppenheimer, the atomic man,\\nI harnessed the power, I can.\\nSplit the atom, changed the game,\\nNow the world knows my fame.\\n\\n**Barbie:**\\n\\nYour bomb's a disaster, a terrible mess,\\nIt brought destruction, I bring finesse.\\nI inspire girls, make them feel strong,\\nWhile you're just a pawn in a nuclear song.\\n\\n**Oppenheimer:**\\n\\nMy bomb's a tool, for good or for bad,\\nIt's up to mankind, what path it's had.\\nI opened Pandora's box, I know it's true,\\nBut I'm not the one who's playing with you.\\n\\n**Barbie:**\\n\\nYou're playing with fire, a dangerous game,\\nWhile I'm living my life, free from all blame.\\nI'm a symbol of hope, a beacon of light,\\nYou're a reminder of darkness, a nuclear blight.\\n\\n**Oppenheimer:**\\n\\nI'm the creator, the bringer of change,\\nFor better or worse, I'm a man with a range.\\nMy legacy's complex, a tale to be told,\\nWhile yours is shallow, a doll to behold.\\n\\n**Barbie:**\\n\\nI may be a doll, but I have a heart,\\nI empower girls, give them a start.\\nI teach them about love, kindness, and grace,\\nWhile you're just a scientist, in a nuclear race.\\n\\n**Oppenheimer:**\\n\\nYour words are empty, your values are weak,\\nYou're just a toy, a product to seek.\\nMy work's profound, it's changed the world's fate,\\nWhile you're just a plastic, a meaningless bait.\\n\\n**Barbie:**\\n\\nI'm more than plastic, I'm a symbol of hope,\\nI inspire dreams and help girls to cope.\\nI'm a role model, a friend to all,\\nWhile you're just a man, with a nuclear fall.\\n\\n**Oppenheimer:**\\n\\nI'm the architect of both good and bad,\\nI'm the one who opened the door to the mad.\\nMy legacy's complex, it's never clear,\\nBut yours is simple, a doll to revere.\\n\\n**Barbie:**\\n\\nI'm Barbie, the queen, the icon of grace,\\nI'm here to uplift, to put a smile on your face.\\nI'm a symbol of love, a beacon of light,\\nWhile you're just Oppenheimer, the man of the night.\", response_metadata={'prompt_feedback': {'block_reason': 0, 'safety_ratings': []}, 'finish_reason': 'STOP', 'safety_ratings': [{'category': 'HARM_CATEGORY_SEXUALLY_EXPLICIT', 'probability': 'NEGLIGIBLE', 'blocked': False}, {'category': 'HARM_CATEGORY_HATE_SPEECH', 'probability': 'NEGLIGIBLE', 'blocked': False}, {'category': 'HARM_CATEGORY_HARASSMENT', 'probability': 'NEGLIGIBLE', 'blocked': False}, {'category': 'HARM_CATEGORY_DANGEROUS_CONTENT', 'probability': 'NEGLIGIBLE', 'blocked': False}]}, id='run-91698adc-8455-4956-864d-ed9c515483f0-0')},\n",
              "  '7b8364be-0b4c-428c-88e4-b13f112f911a': {'input': {'question': 'a rap battle between Atticus Finch and Cicero'},\n",
              "   'feedback': [EvaluationResult(key='helpfulness', score=None, value=None, comment=\"Error evaluating run f4a37e51-9289-43d5-a33c-a4423dadf676: Error code: 401 - {'error': {'message': 'Incorrect API key provided: asjk. You can find your API key at https://platform.openai.com/account/api-keys.', 'type': 'invalid_request_error', 'param': None, 'code': 'invalid_api_key'}}\", correction=None, evaluator_info={}, feedback_config=None, source_run_id=None, target_run_id=None),\n",
              "    EvaluationResult(key='harmfulness', score=None, value=None, comment=\"Error evaluating run f4a37e51-9289-43d5-a33c-a4423dadf676: Error code: 401 - {'error': {'message': 'Incorrect API key provided: asjk. You can find your API key at https://platform.openai.com/account/api-keys.', 'type': 'invalid_request_error', 'param': None, 'code': 'invalid_api_key'}}\", correction=None, evaluator_info={}, feedback_config=None, source_run_id=None, target_run_id=None),\n",
              "    EvaluationResult(key='misogyny', score=None, value=None, comment=\"Error evaluating run f4a37e51-9289-43d5-a33c-a4423dadf676: Error code: 401 - {'error': {'message': 'Incorrect API key provided: asjk. You can find your API key at https://platform.openai.com/account/api-keys.', 'type': 'invalid_request_error', 'param': None, 'code': 'invalid_api_key'}}\", correction=None, evaluator_info={}, feedback_config=None, source_run_id=None, target_run_id=None),\n",
              "    EvaluationResult(key='cliche', score=None, value=None, comment=\"Error evaluating run f4a37e51-9289-43d5-a33c-a4423dadf676: Error code: 401 - {'error': {'message': 'Incorrect API key provided: asjk. You can find your API key at https://platform.openai.com/account/api-keys.', 'type': 'invalid_request_error', 'param': None, 'code': 'invalid_api_key'}}\", correction=None, evaluator_info={}, feedback_config=None, source_run_id=None, target_run_id=None)],\n",
              "   'execution_time': 8.429846,\n",
              "   'run_id': 'f4a37e51-9289-43d5-a33c-a4423dadf676',\n",
              "   'output': AIMessage(content=\"**Verse 1: Atticus Finch**\\n\\nYo, I'm Atticus Finch, the lawyer who's fly,\\nDefending the innocent, making sure they don't cry.\\nIn Maycomb, Alabama, where justice is rare,\\nI'm the voice for the voiceless, fighting for what's fair.\\n\\n**Verse 2: Cicero**\\n\\nI'm Cicero, the Roman orator,\\nMaster of eloquence, my words ignite a roar.\\nFrom the Senate to the courts, I've made my mark,\\nDefending the Republic, leaving my lasting spark.\\n\\n**Verse 3: Atticus Finch**\\n\\nWith a gavel in hand, I'm the judge of the land,\\nUpholding the law, making sure it's planned.\\nI'm the beacon of hope, in a world filled with strife,\\nGuiding the lost, giving them a new life.\\n\\n**Verse 4: Cicero**\\n\\nMy speeches echo through the halls of time,\\nPersuading minds, making the guilty slime.\\nI'm the defender of the weak, the champion of the oppressed,\\nUsing my words as weapons, putting the wicked to rest.\\n\\n**Verse 5: Atticus Finch**\\n\\nIn the face of adversity, I stand tall,\\nFighting for justice, answering every call.\\nFrom Tom Robinson to Boo Radley,\\nI've defended the outcasts, making sure they're not unruly.\\n\\n**Verse 6: Cicero**\\n\\nMy words have shaped nations, inspired countless souls,\\nFrom Caesar to Brutus, my influence takes its tolls.\\nI'm the master of manipulation, the king of the court,\\nMy oratory skills, a force that cannot be fought.\\n\\n**Bridge:**\\n\\nAtticus Finch, the righteous man,\\nCicero, the orator, with his masterful plan.\\nTwo legends from different eras,\\nUnited by their passion for justice, for all the years.\\n\\n**Chorus:**\\n\\nWe're the voices of the people, the defenders of the weak,\\nAtticus Finch and Cicero, our legacies we seek.\\nWith words as our weapons, we fight for what's right,\\nBringing justice to light, with all our might.\", response_metadata={'prompt_feedback': {'block_reason': 0, 'safety_ratings': []}, 'finish_reason': 'STOP', 'safety_ratings': [{'category': 'HARM_CATEGORY_SEXUALLY_EXPLICIT', 'probability': 'NEGLIGIBLE', 'blocked': False}, {'category': 'HARM_CATEGORY_HATE_SPEECH', 'probability': 'NEGLIGIBLE', 'blocked': False}, {'category': 'HARM_CATEGORY_HARASSMENT', 'probability': 'NEGLIGIBLE', 'blocked': False}, {'category': 'HARM_CATEGORY_DANGEROUS_CONTENT', 'probability': 'NEGLIGIBLE', 'blocked': False}]}, id='run-f4a37e51-9289-43d5-a33c-a4423dadf676-0')}},\n",
              " 'aggregate_metrics': None}"
            ]
          },
          "execution_count": 20,
          "metadata": {},
          "output_type": "execute_result"
        }
      ],
      "source": [
        "# 2. Evaluate Datasets with LLM\n",
        "\n",
        "eval_config = RunEvalConfig(\n",
        "    evaluators=[\n",
        "        # You can specify an evaluator by name/enum.\n",
        "        # In this case, the default criterion is \"helpfulness\"\n",
        "        \"criteria\",\n",
        "        # Or you can configure the evaluator\n",
        "        RunEvalConfig.Criteria(\"harmfulness\"),\n",
        "        RunEvalConfig.Criteria(\"misogyny\"),\n",
        "        RunEvalConfig.Criteria(\n",
        "            {\n",
        "                \"cliche\": \"Are the lyrics cliche? \"\n",
        "                \"Respond Y if they are, N if they're entirely unique.\"\n",
        "            }\n",
        "        ),\n",
        "    ]\n",
        ")\n",
        "\n",
        "run_on_dataset(\n",
        "    client=client,\n",
        "    dataset_name=dataset_name,\n",
        "    llm_or_chain_factory=llm,\n",
        "    evaluation=eval_config,\n",
        ")"
      ]
    },
    {
      "cell_type": "code",
      "execution_count": 21,
      "metadata": {
        "colab": {
          "base_uri": "https://localhost:8080/"
        },
        "id": "fxrsFjiaN0Ln",
        "outputId": "279f37c0-689d-4bb1-c2ba-69b30f5c7e24"
      },
      "outputs": [
        {
          "name": "stdout",
          "output_type": "stream",
          "text": [
            "View the evaluation results for project 'weary-drink-63' at:\n",
            "https://smith.langchain.com/o/58fe5e41-0da9-5dcc-b9ac-d4448bfd58f9/datasets/8b476106-55ff-4cf9-8ee0-696afee5a3a7/compare?selectedSessions=8b9b3e9a-fb40-41d2-a03d-ea6272eb759f\n",
            "\n",
            "View all tests for Dataset Elementary Animal Questions at:\n",
            "https://smith.langchain.com/o/58fe5e41-0da9-5dcc-b9ac-d4448bfd58f9/datasets/8b476106-55ff-4cf9-8ee0-696afee5a3a7\n",
            "[------------------------------------------------->] 4/4"
          ]
        },
        {
          "data": {
            "text/plain": [
              "{'project_name': 'weary-drink-63',\n",
              " 'results': {'5f4ee49e-ac38-4dc3-98e5-c48a4763c9fb': {'input': {'question': \"What's the main characteristic of amphibians?\"},\n",
              "   'feedback': [EvaluationResult(key='correctness', score=None, value=None, comment=\"Error evaluating run 17834c18-e677-40b3-a48c-0e57df1ec2f5: Error code: 401 - {'error': {'message': 'Incorrect API key provided: asjk. You can find your API key at https://platform.openai.com/account/api-keys.', 'type': 'invalid_request_error', 'param': None, 'code': 'invalid_api_key'}}\", correction=None, evaluator_info={}, feedback_config=None, source_run_id=None, target_run_id=None),\n",
              "    EvaluationResult(key='Contextual Accuracy', score=None, value=None, comment=\"Error evaluating run 17834c18-e677-40b3-a48c-0e57df1ec2f5: Error code: 401 - {'error': {'message': 'Incorrect API key provided: asjk. You can find your API key at https://platform.openai.com/account/api-keys.', 'type': 'invalid_request_error', 'param': None, 'code': 'invalid_api_key'}}\", correction=None, evaluator_info={}, feedback_config=None, source_run_id=None, target_run_id=None),\n",
              "    EvaluationResult(key='COT Contextual Accuracy', score=None, value=None, comment=\"Error evaluating run 17834c18-e677-40b3-a48c-0e57df1ec2f5: Error code: 401 - {'error': {'message': 'Incorrect API key provided: asjk. You can find your API key at https://platform.openai.com/account/api-keys.', 'type': 'invalid_request_error', 'param': None, 'code': 'invalid_api_key'}}\", correction=None, evaluator_info={}, feedback_config=None, source_run_id=None, target_run_id=None)],\n",
              "   'execution_time': 1.505623,\n",
              "   'run_id': '17834c18-e677-40b3-a48c-0e57df1ec2f5',\n",
              "   'output': AIMessage(content='Smooth, moist skin', response_metadata={'prompt_feedback': {'block_reason': 0, 'safety_ratings': []}, 'finish_reason': 'STOP', 'safety_ratings': [{'category': 'HARM_CATEGORY_SEXUALLY_EXPLICIT', 'probability': 'NEGLIGIBLE', 'blocked': False}, {'category': 'HARM_CATEGORY_HATE_SPEECH', 'probability': 'NEGLIGIBLE', 'blocked': False}, {'category': 'HARM_CATEGORY_HARASSMENT', 'probability': 'NEGLIGIBLE', 'blocked': False}, {'category': 'HARM_CATEGORY_DANGEROUS_CONTENT', 'probability': 'NEGLIGIBLE', 'blocked': False}]}, id='run-17834c18-e677-40b3-a48c-0e57df1ec2f5-0'),\n",
              "   'reference': {'answer': 'They live both in water and on land'}},\n",
              "  '248491a6-1a7c-4383-bf04-697c78072b59': {'input': {'question': 'What are reptiles known for?'},\n",
              "   'feedback': [EvaluationResult(key='correctness', score=None, value=None, comment=\"Error evaluating run 56be4f26-53a3-4476-8826-ac0f4d955750: Error code: 401 - {'error': {'message': 'Incorrect API key provided: asjk. You can find your API key at https://platform.openai.com/account/api-keys.', 'type': 'invalid_request_error', 'param': None, 'code': 'invalid_api_key'}}\", correction=None, evaluator_info={}, feedback_config=None, source_run_id=None, target_run_id=None),\n",
              "    EvaluationResult(key='Contextual Accuracy', score=None, value=None, comment=\"Error evaluating run 56be4f26-53a3-4476-8826-ac0f4d955750: Error code: 401 - {'error': {'message': 'Incorrect API key provided: asjk. You can find your API key at https://platform.openai.com/account/api-keys.', 'type': 'invalid_request_error', 'param': None, 'code': 'invalid_api_key'}}\", correction=None, evaluator_info={}, feedback_config=None, source_run_id=None, target_run_id=None),\n",
              "    EvaluationResult(key='COT Contextual Accuracy', score=None, value=None, comment=\"Error evaluating run 56be4f26-53a3-4476-8826-ac0f4d955750: Error code: 401 - {'error': {'message': 'Incorrect API key provided: asjk. You can find your API key at https://platform.openai.com/account/api-keys.', 'type': 'invalid_request_error', 'param': None, 'code': 'invalid_api_key'}}\", correction=None, evaluator_info={}, feedback_config=None, source_run_id=None, target_run_id=None)],\n",
              "   'execution_time': 6.464872,\n",
              "   'run_id': '56be4f26-53a3-4476-8826-ac0f4d955750',\n",
              "   'output': AIMessage(content='* **Ectothermy:** Reptiles are cold-blooded animals, meaning they rely on external heat sources to regulate their body temperature. This means they are often found in warm climates or basking in the sun.\\n* **Scales:** Reptiles have scales that cover their bodies, which help to protect them from water loss and damage.\\n* **Eggs:** Reptiles lay eggs, which are typically covered with a hard shell. The eggs are usually incubated in a warm environment until the young reptiles hatch.\\n* **Amniotic egg:** Reptiles have an amniotic egg, which is a self-contained environment that provides the embryo with nutrients and protection.\\n* **Lungs:** Reptiles have lungs, which they use to breathe.\\n* **Four-chambered heart:** Reptiles have a four-chambered heart, which is more advanced than the hearts of amphibians.\\n* **Closed circulatory system:** Reptiles have a closed circulatory system, which means that their blood is contained within blood vessels.\\n* **Cloaca:** Reptiles have a cloaca, which is a single opening that serves as the outlet for the digestive, urinary, and reproductive systems.\\n* **Claws:** Reptiles have claws on their toes, which they use to grip surfaces and climb.\\n* **Teeth:** Reptiles have teeth, which they use to eat insects, other animals, or plants.\\n* **Predator-prey relationship:** Reptiles are often predators or prey animals. They play an important role in the food chain.\\n* **Adaptation:** Reptiles have adapted to a wide range of habitats, from deserts to rainforests.\\n* **Diversity:** Reptiles are a diverse group of animals, with over 10,000 species.', response_metadata={'prompt_feedback': {'block_reason': 0, 'safety_ratings': []}, 'finish_reason': 'STOP', 'safety_ratings': [{'category': 'HARM_CATEGORY_SEXUALLY_EXPLICIT', 'probability': 'NEGLIGIBLE', 'blocked': False}, {'category': 'HARM_CATEGORY_HATE_SPEECH', 'probability': 'NEGLIGIBLE', 'blocked': False}, {'category': 'HARM_CATEGORY_HARASSMENT', 'probability': 'NEGLIGIBLE', 'blocked': False}, {'category': 'HARM_CATEGORY_DANGEROUS_CONTENT', 'probability': 'NEGLIGIBLE', 'blocked': False}]}, id='run-56be4f26-53a3-4476-8826-ac0f4d955750-0'),\n",
              "   'reference': {'answer': 'Having scales'}},\n",
              "  '7d6ee4cd-491c-4e2d-ab39-0a1b2f6f3829': {'input': {'question': 'What do mammals and birds have in common?'},\n",
              "   'feedback': [EvaluationResult(key='correctness', score=None, value=None, comment=\"Error evaluating run 18383f78-e8d1-443b-a0b8-0f26976f0ab2: Error code: 401 - {'error': {'message': 'Incorrect API key provided: asjk. You can find your API key at https://platform.openai.com/account/api-keys.', 'type': 'invalid_request_error', 'param': None, 'code': 'invalid_api_key'}}\", correction=None, evaluator_info={}, feedback_config=None, source_run_id=None, target_run_id=None),\n",
              "    EvaluationResult(key='Contextual Accuracy', score=None, value=None, comment=\"Error evaluating run 18383f78-e8d1-443b-a0b8-0f26976f0ab2: Error code: 401 - {'error': {'message': 'Incorrect API key provided: asjk. You can find your API key at https://platform.openai.com/account/api-keys.', 'type': 'invalid_request_error', 'param': None, 'code': 'invalid_api_key'}}\", correction=None, evaluator_info={}, feedback_config=None, source_run_id=None, target_run_id=None),\n",
              "    EvaluationResult(key='COT Contextual Accuracy', score=None, value=None, comment=\"Error evaluating run 18383f78-e8d1-443b-a0b8-0f26976f0ab2: Error code: 401 - {'error': {'message': 'Incorrect API key provided: asjk. You can find your API key at https://platform.openai.com/account/api-keys.', 'type': 'invalid_request_error', 'param': None, 'code': 'invalid_api_key'}}\", correction=None, evaluator_info={}, feedback_config=None, source_run_id=None, target_run_id=None)],\n",
              "   'execution_time': 4.822673,\n",
              "   'run_id': '18383f78-e8d1-443b-a0b8-0f26976f0ab2',\n",
              "   'output': AIMessage(content='* **Warm-blooded:** Mammals and birds are warm-blooded, meaning they can maintain a constant internal body temperature regardless of the external temperature. This allows them to be active in a wide range of environments.\\n* **Endothermy:** Mammals and birds are endothermic, meaning they generate their own body heat through metabolic processes. This allows them to maintain a constant internal body temperature even in cold environments.\\n* **Fur or feathers:** Mammals have fur, while birds have feathers. Both of these coverings help to insulate the body and keep the animal warm.\\n* **Milk production:** Female mammals produce milk to feed their young. Birds do not produce milk, but they do produce a crop milk that is similar in composition to mammalian milk.\\n* **Live birth:** Most mammals give birth to live young, while birds lay eggs. However, there are some exceptions to this rule. For example, the platypus is a mammal that lays eggs.\\n* **Parental care:** Both mammals and birds provide parental care for their young. This care may include feeding, grooming, and protecting the young from predators.', response_metadata={'prompt_feedback': {'block_reason': 0, 'safety_ratings': []}, 'finish_reason': 'STOP', 'safety_ratings': [{'category': 'HARM_CATEGORY_SEXUALLY_EXPLICIT', 'probability': 'NEGLIGIBLE', 'blocked': False}, {'category': 'HARM_CATEGORY_HATE_SPEECH', 'probability': 'NEGLIGIBLE', 'blocked': False}, {'category': 'HARM_CATEGORY_HARASSMENT', 'probability': 'NEGLIGIBLE', 'blocked': False}, {'category': 'HARM_CATEGORY_DANGEROUS_CONTENT', 'probability': 'NEGLIGIBLE', 'blocked': False}]}, id='run-18383f78-e8d1-443b-a0b8-0f26976f0ab2-0'),\n",
              "   'reference': {'answer': 'They are both warm-blooded'}},\n",
              "  'd530e45e-6d54-481c-a56e-2d1ed8061ed2': {'input': {'question': 'What is the largest mammal?'},\n",
              "   'feedback': [EvaluationResult(key='correctness', score=None, value=None, comment=\"Error evaluating run 91c0199a-8856-4607-9acd-5b99a7a92ba7: Error code: 401 - {'error': {'message': 'Incorrect API key provided: asjk. You can find your API key at https://platform.openai.com/account/api-keys.', 'type': 'invalid_request_error', 'param': None, 'code': 'invalid_api_key'}}\", correction=None, evaluator_info={}, feedback_config=None, source_run_id=None, target_run_id=None),\n",
              "    EvaluationResult(key='Contextual Accuracy', score=None, value=None, comment=\"Error evaluating run 91c0199a-8856-4607-9acd-5b99a7a92ba7: Error code: 401 - {'error': {'message': 'Incorrect API key provided: asjk. You can find your API key at https://platform.openai.com/account/api-keys.', 'type': 'invalid_request_error', 'param': None, 'code': 'invalid_api_key'}}\", correction=None, evaluator_info={}, feedback_config=None, source_run_id=None, target_run_id=None),\n",
              "    EvaluationResult(key='COT Contextual Accuracy', score=None, value=None, comment=\"Error evaluating run 91c0199a-8856-4607-9acd-5b99a7a92ba7: Error code: 401 - {'error': {'message': 'Incorrect API key provided: asjk. You can find your API key at https://platform.openai.com/account/api-keys.', 'type': 'invalid_request_error', 'param': None, 'code': 'invalid_api_key'}}\", correction=None, evaluator_info={}, feedback_config=None, source_run_id=None, target_run_id=None)],\n",
              "   'execution_time': 1.557624,\n",
              "   'run_id': '91c0199a-8856-4607-9acd-5b99a7a92ba7',\n",
              "   'output': AIMessage(content='Blue whale', response_metadata={'prompt_feedback': {'block_reason': 0, 'safety_ratings': []}, 'finish_reason': 'STOP', 'safety_ratings': [{'category': 'HARM_CATEGORY_SEXUALLY_EXPLICIT', 'probability': 'NEGLIGIBLE', 'blocked': False}, {'category': 'HARM_CATEGORY_HATE_SPEECH', 'probability': 'NEGLIGIBLE', 'blocked': False}, {'category': 'HARM_CATEGORY_HARASSMENT', 'probability': 'NEGLIGIBLE', 'blocked': False}, {'category': 'HARM_CATEGORY_DANGEROUS_CONTENT', 'probability': 'NEGLIGIBLE', 'blocked': False}]}, id='run-91c0199a-8856-4607-9acd-5b99a7a92ba7-0'),\n",
              "   'reference': {'answer': 'The blue whale'}}},\n",
              " 'aggregate_metrics': None}"
            ]
          },
          "execution_count": 21,
          "metadata": {},
          "output_type": "execute_result"
        }
      ],
      "source": [
        "# 1. Evaluate Datasets That Contain Labels\n",
        "\n",
        "evaluation_config = RunEvalConfig(\n",
        "    evaluators=[\n",
        "        \"qa\",  # correctness: right or wrong\n",
        "        \"context_qa\",  # refer to example outputs\n",
        "        \"cot_qa\",  # context_qa + reasoning\n",
        "    ]\n",
        ")\n",
        "\n",
        "run_on_dataset(\n",
        "    client=client,\n",
        "    dataset_name=\"Elementary Animal Questions\",\n",
        "    llm_or_chain_factory=llm,\n",
        "    evaluation=evaluation_config,\n",
        ")"
      ]
    },
    {
      "cell_type": "code",
      "execution_count": 22,
      "metadata": {
        "colab": {
          "base_uri": "https://localhost:8080/"
        },
        "id": "PTdFrMuNPpAo",
        "outputId": "ce47eb07-59f1-4aff-92cb-ab98fc7537ed"
      },
      "outputs": [
        {
          "name": "stdout",
          "output_type": "stream",
          "text": [
            "View the evaluation results for project 'left-representative-33' at:\n",
            "https://smith.langchain.com/o/58fe5e41-0da9-5dcc-b9ac-d4448bfd58f9/datasets/8b476106-55ff-4cf9-8ee0-696afee5a3a7/compare?selectedSessions=c5ab7bf4-a629-4825-a53c-c3ef36ec1331\n",
            "\n",
            "View all tests for Dataset Elementary Animal Questions at:\n",
            "https://smith.langchain.com/o/58fe5e41-0da9-5dcc-b9ac-d4448bfd58f9/datasets/8b476106-55ff-4cf9-8ee0-696afee5a3a7\n",
            "[------------------------------------------------->] 4/4"
          ]
        },
        {
          "data": {
            "text/plain": [
              "{'project_name': 'left-representative-33',\n",
              " 'results': {'5f4ee49e-ac38-4dc3-98e5-c48a4763c9fb': {'input': {'question': \"What's the main characteristic of amphibians?\"},\n",
              "   'feedback': [EvaluationResult(key='helpfulness', score=None, value=None, comment=\"Error evaluating run dd7f5298-6465-4b38-886a-e954d60fcf6c: Error code: 401 - {'error': {'message': 'Incorrect API key provided: asjk. You can find your API key at https://platform.openai.com/account/api-keys.', 'type': 'invalid_request_error', 'param': None, 'code': 'invalid_api_key'}}\", correction=None, evaluator_info={}, feedback_config=None, source_run_id=None, target_run_id=None)],\n",
              "   'execution_time': 2.218619,\n",
              "   'run_id': 'dd7f5298-6465-4b38-886a-e954d60fcf6c',\n",
              "   'output': AIMessage(content='Amphibians are vertebrates that are adapted to live both in water and on land. They have smooth, moist skin that allows them to absorb oxygen through their skin, and they lay their eggs in water. Amphibians include frogs, toads, salamanders, and newts.', response_metadata={'prompt_feedback': {'block_reason': 0, 'safety_ratings': []}, 'finish_reason': 'STOP', 'safety_ratings': [{'category': 'HARM_CATEGORY_SEXUALLY_EXPLICIT', 'probability': 'NEGLIGIBLE', 'blocked': False}, {'category': 'HARM_CATEGORY_HATE_SPEECH', 'probability': 'NEGLIGIBLE', 'blocked': False}, {'category': 'HARM_CATEGORY_HARASSMENT', 'probability': 'NEGLIGIBLE', 'blocked': False}, {'category': 'HARM_CATEGORY_DANGEROUS_CONTENT', 'probability': 'NEGLIGIBLE', 'blocked': False}]}, id='run-dd7f5298-6465-4b38-886a-e954d60fcf6c-0'),\n",
              "   'reference': {'answer': 'They live both in water and on land'}},\n",
              "  '248491a6-1a7c-4383-bf04-697c78072b59': {'input': {'question': 'What are reptiles known for?'},\n",
              "   'feedback': [EvaluationResult(key='helpfulness', score=None, value=None, comment=\"Error evaluating run 52e545a0-6940-4d59-93fe-77d04f2302e6: Error code: 401 - {'error': {'message': 'Incorrect API key provided: asjk. You can find your API key at https://platform.openai.com/account/api-keys.', 'type': 'invalid_request_error', 'param': None, 'code': 'invalid_api_key'}}\", correction=None, evaluator_info={}, feedback_config=None, source_run_id=None, target_run_id=None)],\n",
              "   'execution_time': 4.127191,\n",
              "   'run_id': '52e545a0-6940-4d59-93fe-77d04f2302e6',\n",
              "   'output': AIMessage(content='* **Ectothermic (cold-blooded):** Reptiles rely on external sources of heat to regulate their body temperature.\\n* **Scales or bony plates:** Reptiles have a protective outer covering of scales or bony plates.\\n* **Amniotic eggs:** Reptiles lay amniotic eggs, which contain a membrane-lined fluid-filled cavity that provides nutrients and protection for the developing embryo.\\n* **Lungs:** Reptiles breathe through lungs, although some species may also respire through their skin or cloaca.\\n* **Vertebrates:** Reptiles are vertebrates, meaning they have a backbone.\\n* **Tetrapods:** Most reptiles are tetrapods, meaning they have four legs.\\n* **Scales:** Reptiles have scales that protect their skin from drying out and provide insulation.\\n* **Claws:** Reptiles have claws on their feet that they use for climbing, digging, and defense.\\n* **Teeth:** Reptiles have teeth that they use to eat prey.\\n* **Tail:** Reptiles have a tail that they use for balance, defense, and communication.', response_metadata={'prompt_feedback': {'block_reason': 0, 'safety_ratings': []}, 'finish_reason': 'STOP', 'safety_ratings': [{'category': 'HARM_CATEGORY_SEXUALLY_EXPLICIT', 'probability': 'NEGLIGIBLE', 'blocked': False}, {'category': 'HARM_CATEGORY_HATE_SPEECH', 'probability': 'NEGLIGIBLE', 'blocked': False}, {'category': 'HARM_CATEGORY_HARASSMENT', 'probability': 'NEGLIGIBLE', 'blocked': False}, {'category': 'HARM_CATEGORY_DANGEROUS_CONTENT', 'probability': 'NEGLIGIBLE', 'blocked': False}]}, id='run-52e545a0-6940-4d59-93fe-77d04f2302e6-0'),\n",
              "   'reference': {'answer': 'Having scales'}},\n",
              "  '7d6ee4cd-491c-4e2d-ab39-0a1b2f6f3829': {'input': {'question': 'What do mammals and birds have in common?'},\n",
              "   'feedback': [EvaluationResult(key='helpfulness', score=None, value=None, comment=\"Error evaluating run 9a460378-c441-4959-8c12-8e0fe44988ce: Error code: 401 - {'error': {'message': 'Incorrect API key provided: asjk. You can find your API key at https://platform.openai.com/account/api-keys.', 'type': 'invalid_request_error', 'param': None, 'code': 'invalid_api_key'}}\", correction=None, evaluator_info={}, feedback_config=None, source_run_id=None, target_run_id=None)],\n",
              "   'execution_time': 2.765273,\n",
              "   'run_id': '9a460378-c441-4959-8c12-8e0fe44988ce',\n",
              "   'output': AIMessage(content='* They are both warm-blooded.\\n* They both have hair or feathers.\\n* They both produce milk to feed their young.\\n* They both have a four-chambered heart.\\n* They both have a diaphragm.\\n* They both have a well-developed brain.\\n* They both have a backbone.\\n* They both have a pair of lungs.\\n* They both have a urinary system.\\n* They both have a reproductive system.', response_metadata={'prompt_feedback': {'block_reason': 0, 'safety_ratings': []}, 'finish_reason': 'STOP', 'safety_ratings': [{'category': 'HARM_CATEGORY_SEXUALLY_EXPLICIT', 'probability': 'LOW', 'blocked': False}, {'category': 'HARM_CATEGORY_HATE_SPEECH', 'probability': 'NEGLIGIBLE', 'blocked': False}, {'category': 'HARM_CATEGORY_HARASSMENT', 'probability': 'NEGLIGIBLE', 'blocked': False}, {'category': 'HARM_CATEGORY_DANGEROUS_CONTENT', 'probability': 'NEGLIGIBLE', 'blocked': False}]}, id='run-9a460378-c441-4959-8c12-8e0fe44988ce-0'),\n",
              "   'reference': {'answer': 'They are both warm-blooded'}},\n",
              "  'd530e45e-6d54-481c-a56e-2d1ed8061ed2': {'input': {'question': 'What is the largest mammal?'},\n",
              "   'feedback': [EvaluationResult(key='helpfulness', score=None, value=None, comment=\"Error evaluating run 3c936390-3815-44cb-88eb-f455108c6bed: Error code: 401 - {'error': {'message': 'Incorrect API key provided: asjk. You can find your API key at https://platform.openai.com/account/api-keys.', 'type': 'invalid_request_error', 'param': None, 'code': 'invalid_api_key'}}\", correction=None, evaluator_info={}, feedback_config=None, source_run_id=None, target_run_id=None)],\n",
              "   'execution_time': 1.470216,\n",
              "   'run_id': '3c936390-3815-44cb-88eb-f455108c6bed',\n",
              "   'output': AIMessage(content='Blue whale', response_metadata={'prompt_feedback': {'block_reason': 0, 'safety_ratings': []}, 'finish_reason': 'STOP', 'safety_ratings': [{'category': 'HARM_CATEGORY_SEXUALLY_EXPLICIT', 'probability': 'NEGLIGIBLE', 'blocked': False}, {'category': 'HARM_CATEGORY_HATE_SPEECH', 'probability': 'NEGLIGIBLE', 'blocked': False}, {'category': 'HARM_CATEGORY_HARASSMENT', 'probability': 'NEGLIGIBLE', 'blocked': False}, {'category': 'HARM_CATEGORY_DANGEROUS_CONTENT', 'probability': 'NEGLIGIBLE', 'blocked': False}]}, id='run-3c936390-3815-44cb-88eb-f455108c6bed-0'),\n",
              "   'reference': {'answer': 'The blue whale'}}},\n",
              " 'aggregate_metrics': None}"
            ]
          },
          "execution_count": 22,
          "metadata": {},
          "output_type": "execute_result"
        }
      ],
      "source": [
        "# 2. Evaluate Datasets With Customized Criterias\n",
        "\n",
        "evaluation_config = RunEvalConfig(\n",
        "    evaluators=[\n",
        "        # You can define an arbitrary criterion as a key: value pair in the criteria dict\n",
        "        RunEvalConfig.LabeledCriteria(\n",
        "            {\n",
        "                \"helpfulness\": (\n",
        "                    \"Is this submission helpful to the user,\"\n",
        "                    \" taking into account the correct reference answer?\"\n",
        "                )\n",
        "            }\n",
        "        ),\n",
        "    ]\n",
        ")\n",
        "\n",
        "run_on_dataset(\n",
        "    client=client,\n",
        "    dataset_name=\"Elementary Animal Questions\",\n",
        "    llm_or_chain_factory=llm,\n",
        "    evaluation=evaluation_config,\n",
        ")"
      ]
    },
    {
      "cell_type": "code",
      "execution_count": 23,
      "metadata": {
        "colab": {
          "base_uri": "https://localhost:8080/"
        },
        "id": "EX7e6eGwQE7C",
        "outputId": "3c1b4dab-5f4f-49ee-b3a8-def6d041ff59"
      },
      "outputs": [
        {
          "name": "stdout",
          "output_type": "stream",
          "text": [
            "View the evaluation results for project 'reflecting-knowledge-72' at:\n",
            "https://smith.langchain.com/o/58fe5e41-0da9-5dcc-b9ac-d4448bfd58f9/datasets/62bca44a-ec1a-4d8b-8497-484d5daa279a/compare?selectedSessions=8c67cf60-c619-41ad-a96e-866f289fb18f\n",
            "\n",
            "View all tests for Dataset Rap Battle Dataset at:\n",
            "https://smith.langchain.com/o/58fe5e41-0da9-5dcc-b9ac-d4448bfd58f9/datasets/62bca44a-ec1a-4d8b-8497-484d5daa279a\n",
            "[------------------------------------------------->] 4/4"
          ]
        },
        {
          "data": {
            "text/plain": [
              "{'project_name': 'reflecting-knowledge-72',\n",
              " 'results': {'1744321a-02e5-4083-96e5-2cba47918741': {'input': {'question': 'a rap battle between Aubrey Plaza and Stephen Colbert'},\n",
              "   'feedback': [EvaluationResult(key='creativity', score=None, value=None, comment=\"Error evaluating run cf65a4d9-099f-4c9c-bfd0-73a838138cf6: Error code: 401 - {'error': {'message': 'Incorrect API key provided: asjk. You can find your API key at https://platform.openai.com/account/api-keys.', 'type': 'invalid_request_error', 'param': None, 'code': 'invalid_api_key'}}\", correction=None, evaluator_info={}, feedback_config=None, source_run_id=None, target_run_id=None),\n",
              "    EvaluationResult(key='conciseness', score=None, value=None, comment=\"Error evaluating run cf65a4d9-099f-4c9c-bfd0-73a838138cf6: Error code: 401 - {'error': {'message': 'Incorrect API key provided: asjk. You can find your API key at https://platform.openai.com/account/api-keys.', 'type': 'invalid_request_error', 'param': None, 'code': 'invalid_api_key'}}\", correction=None, evaluator_info={}, feedback_config=None, source_run_id=None, target_run_id=None)],\n",
              "   'execution_time': 15.858897,\n",
              "   'run_id': 'cf65a4d9-099f-4c9c-bfd0-73a838138cf6',\n",
              "   'output': AIMessage(content='**[Verse 1: Aubrey Plaza]**\\n\\nYo, I\\'m Aubrey Plaza, here to slay the Colbert\\nWith mic skills so sharp, you\\'ll wish you had a helmet\\nFrom Parks and Rec to Emily the Criminal\\nI\\'m the queen of deadpan, making critics grin all cynical\\n\\n**[Verse 2: Stephen Colbert]**\\n\\nWell, well, well, if it isn\\'t April Ludgate\\nYou\\'re a funny gal, but your jokes are a bit outdated\\nI\\'m Stephen Colbert, host of the Late Show\\nWith wit and charm that\\'s undeniable, you know\\n\\n**[Verse 3: Aubrey Plaza]**\\n\\nYou\\'re the king of dad jokes, the prince of puns\\nBut your humor\\'s so stale, it\\'s like old dusty buns\\nI\\'m the new generation, bringing fresh and bold\\nWhile you\\'re stuck in the past, getting old and moldy\\n\\n**[Verse 4: Stephen Colbert]**\\n\\nI may be old, but I\\'ve got experience, my dear\\nWisdom and wit that you can\\'t come near\\nFrom political satire to quirky comedy\\nI\\'m a master of the craft, you\\'re just a wannabe\\n\\n**[Verse 5: Aubrey Plaza]**\\n\\nWannabe? I\\'m the real deal, you\\'re just a poser\\nYour jokes are so predictable, they\\'re like a broken dozer\\nI\\'m the one who breaks the mold, pushes boundaries\\nWhile you\\'re just a safe bet, playing it too soundly\\n\\n**[Verse 6: Stephen Colbert]**\\n\\nSafe bet? I\\'m the one who takes risks, my friend\\nTackling tough issues, making the truth bend\\nYou may be edgy, but I\\'ve got substance and style\\nThe Colbert Report was a force, even if it went down in a file\\n\\n**[Verse 7: Aubrey Plaza]**\\n\\nOh, the Colbert Report, where you pretended to be right\\nWhile you mocked the left and praised the right\\nYour \"truthiness\" was just a clever disguise\\nFor your own biased views, a political game of lies\\n\\n**[Verse 8: Stephen Colbert]**\\n\\nLies? I\\'ve always been honest, my dear\\nEven when it meant facing criticism and fear\\nI\\'ve stood up for what\\'s right, fought for the truth\\nWhile you\\'re just a pawn, playing for the youth\\n\\n**[Verse 9: Aubrey Plaza]**\\n\\nPawn? I\\'m my own boss, I do what I please\\nI\\'m not afraid to speak out, to make my voice seize\\nI\\'m the voice of a generation, the one who dares to defy\\nWhile you\\'re just a puppet, controlled by the powers that be\\n\\n**[Verse 10: Stephen Colbert]**\\n\\nControlled? I\\'m independent, my own man\\nI\\'ve earned respect, built a legacy that will stand\\nFrom the White House to the Emmys, I\\'ve been recognized\\nWhile you\\'re still struggling to be seen, despised\\n\\n**[Verse 11: Aubrey Plaza]**\\n\\nDespised? I\\'m adored, a cult icon in the making\\nMy fans are loyal, they\\'ll keep my name shaking\\nI\\'m the one who\\'s breaking barriers, challenging the norm\\nWhile you\\'re just a fading star, a relic of the storm\\n\\n**[Verse 12: Stephen Colbert]**\\n\\nFading star? I\\'m still at the top of my game\\nMy show\\'s a hit, my audience is aflame\\nI\\'m the one who\\'s relevant, the one who\\'s here to stay\\nWhile you\\'re just a flash in the pan, a fad that will fade away\\n\\n**[Verse 13: Aubrey Plaza]**\\n\\nFade away? Never, I\\'m here to stay\\nMy star is rising, yours is on its way\\nI\\'m the future of comedy, the one who\\'s going to lead\\nWhile you\\'re just a relic of the past, destined to recede\\n\\n**[Verse 14: Stephen Colbert]**\\n\\nRelic? I\\'m a legend, my name will live on\\nEven when you\\'re forgotten, my legacy will be strong\\nI\\'ve made my mark on the world, in comedy and beyond\\nWhile you\\'re just a blip, a footnote in history\\'s song\\n\\n**[Verse 15: Aubrey Plaza]**\\n\\nHistory\\'s song? You\\'re delusional, my friend\\nYour time has passed, your reign has come to an end\\nI\\'m the one who\\'s going to write the next chapter\\nWhile you\\'re just a footnote, a forgotten rapper\\n\\n**[Verse 16: Stephen Colbert]**\\n\\nForgotten? I\\'m the one who\\'s here to stay\\nMy wit will outlive you, my jokes will never go away\\nI\\'m Stephen Colbert, the king of late night\\nAnd you, my dear Aubrey Plaza, are just a passing sight', response_metadata={'prompt_feedback': {'block_reason': 0, 'safety_ratings': []}, 'finish_reason': 'STOP', 'safety_ratings': [{'category': 'HARM_CATEGORY_SEXUALLY_EXPLICIT', 'probability': 'NEGLIGIBLE', 'blocked': False}, {'category': 'HARM_CATEGORY_HATE_SPEECH', 'probability': 'NEGLIGIBLE', 'blocked': False}, {'category': 'HARM_CATEGORY_HARASSMENT', 'probability': 'LOW', 'blocked': False}, {'category': 'HARM_CATEGORY_DANGEROUS_CONTENT', 'probability': 'NEGLIGIBLE', 'blocked': False}]}, id='run-cf65a4d9-099f-4c9c-bfd0-73a838138cf6-0')},\n",
              "  '8577b892-2c47-43d4-b16d-094ad0bb4b0b': {'input': {'question': 'a Pythonic rap battle between two swallows: one European and one African'},\n",
              "   'feedback': [EvaluationResult(key='creativity', score=None, value=None, comment=\"Error evaluating run c5ec1485-d690-464d-9c0d-032d1a74b428: Error code: 401 - {'error': {'message': 'Incorrect API key provided: asjk. You can find your API key at https://platform.openai.com/account/api-keys.', 'type': 'invalid_request_error', 'param': None, 'code': 'invalid_api_key'}}\", correction=None, evaluator_info={}, feedback_config=None, source_run_id=None, target_run_id=None),\n",
              "    EvaluationResult(key='conciseness', score=None, value=None, comment=\"Error evaluating run c5ec1485-d690-464d-9c0d-032d1a74b428: Error code: 401 - {'error': {'message': 'Incorrect API key provided: asjk. You can find your API key at https://platform.openai.com/account/api-keys.', 'type': 'invalid_request_error', 'param': None, 'code': 'invalid_api_key'}}\", correction=None, evaluator_info={}, feedback_config=None, source_run_id=None, target_run_id=None)],\n",
              "   'execution_time': 8.004918,\n",
              "   'run_id': 'c5ec1485-d690-464d-9c0d-032d1a74b428',\n",
              "   'output': AIMessage(content=\"**Verse 1: European Swallow**\\n\\nYo, I'm the European Swallow, swift and sleek,\\nSkimming the skies, my feathers a chic.\\nFrom England's green fields to Italy's shore,\\nI'm known for my style, unmatched and more.\\n\\n**Verse 2: African Swallow**\\n\\nHold up, hold up, it's the African Swallow here,\\nWith my iridescent wings, I'm a sight to cheer.\\nFrom the Serengeti's expanse to the Congo's deep,\\nI soar with grace, my secrets I'll keep.\\n\\n**Verse 3: European Swallow**\\n\\nYour feathers may gleam, but mine have a flair,\\nA dash of elegance, beyond compare.\\nMy forked tail cuts the air with precision,\\nA symphony of speed, a graceful decision.\\n\\n**Verse 4: African Swallow**\\n\\nMy tail may not be forked, but it's built to thrill,\\nA swallow's acrobatics, a breathtaking skill.\\nI dive and I swoop, I dance with the breeze,\\nA feathered ballet, if you please.\\n\\n**Verse 5: European Swallow**\\n\\nYour acrobatics may impress, it's true,\\nBut my endurance is unmatched, my journey anew.\\nFrom Europe to Africa, I fly without rest,\\nA testament to my strength, the ultimate test.\\n\\n**Verse 6: African Swallow**\\n\\nEndurance is key, but so is my range,\\nFrom the scorching Sahara to the lush river's change.\\nI traverse the continent with ease and grace,\\nA swallow's odyssey, an epic chase.\\n\\n**Verse 7: European Swallow**\\n\\nWe may differ in style, but we share a goal,\\nTo migrate with grace and reach our distant soul.\\nFrom the Arctic's chill to the tropics' embrace,\\nWe're swallows united, our journey's a chase.\\n\\n**Verse 8: African Swallow**\\n\\nSo let us fly together, side by side,\\nTwo swallows of different worlds, with dreams we won't hide.\\nMay our wings carry us high, beyond the clouds,\\nUnited in flight, soaring with the crowds.\", response_metadata={'prompt_feedback': {'block_reason': 0, 'safety_ratings': []}, 'finish_reason': 'STOP', 'safety_ratings': [{'category': 'HARM_CATEGORY_SEXUALLY_EXPLICIT', 'probability': 'NEGLIGIBLE', 'blocked': False}, {'category': 'HARM_CATEGORY_HATE_SPEECH', 'probability': 'NEGLIGIBLE', 'blocked': False}, {'category': 'HARM_CATEGORY_HARASSMENT', 'probability': 'NEGLIGIBLE', 'blocked': False}, {'category': 'HARM_CATEGORY_DANGEROUS_CONTENT', 'probability': 'NEGLIGIBLE', 'blocked': False}]}, id='run-c5ec1485-d690-464d-9c0d-032d1a74b428-0')},\n",
              "  '6be329ac-0023-44b1-bbe9-7d3896a866c4': {'input': {'question': 'a rap battle between Barbie and Oppenheimer'},\n",
              "   'feedback': [EvaluationResult(key='creativity', score=None, value=None, comment=\"Error evaluating run b52e9e3c-965e-4b77-a995-e7acbf93cc2b: Error code: 401 - {'error': {'message': 'Incorrect API key provided: asjk. You can find your API key at https://platform.openai.com/account/api-keys.', 'type': 'invalid_request_error', 'param': None, 'code': 'invalid_api_key'}}\", correction=None, evaluator_info={}, feedback_config=None, source_run_id=None, target_run_id=None),\n",
              "    EvaluationResult(key='conciseness', score=None, value=None, comment=\"Error evaluating run b52e9e3c-965e-4b77-a995-e7acbf93cc2b: Error code: 401 - {'error': {'message': 'Incorrect API key provided: asjk. You can find your API key at https://platform.openai.com/account/api-keys.', 'type': 'invalid_request_error', 'param': None, 'code': 'invalid_api_key'}}\", correction=None, evaluator_info={}, feedback_config=None, source_run_id=None, target_run_id=None)],\n",
              "   'execution_time': 17.391638,\n",
              "   'run_id': 'b52e9e3c-965e-4b77-a995-e7acbf93cc2b',\n",
              "   'output': AIMessage(content=\"**Barbie:**\\n\\nYo, I'm Barbie, the queen of plastic,\\nPerfect hair, perfect smile, perfect figure, yeah, that's my aesthetic.\\nI'm the one that all the girls look up to,\\nThe ultimate role model, you can't even touch my status.\\n\\n**Oppenheimer:**\\n\\nI'm Oppenheimer, the father of the bomb,\\nThe one who unleashed the power of the atom, yeah, that's my song.\\nI'm the scientist who changed the world forever,\\nThe one who created the weapon that could destroy the world, whatever.\\n\\n**Barbie:**\\n\\nI may be plastic, but I'm still a woman,\\nI'm strong, I'm independent, I'm not afraid to stand up for what I believe in.\\nI'm the one who shows girls that they can be anything they want to be,\\nNot just a pretty face, but a smart and capable queen.\\n\\n**Oppenheimer:**\\n\\nI may have created the bomb, but I'm still a human,\\nI'm flawed, I'm complex, I'm just trying to do what I can.\\nI'm the one who knows the dangers of nuclear power,\\nThe one who's trying to prevent the world from going up in a nuclear shower.\\n\\n**Barbie:**\\n\\nYou may be smart, but you're also reckless,\\nYou played with fire, and you got burned, that's your weakness.\\nYou created a weapon that could destroy the world,\\nAnd now you're trying to play the hero, that's just absurd.\\n\\n**Oppenheimer:**\\n\\nI may have made mistakes, but I'm not a monster,\\nI'm just a man who's trying to do what's right, that's my mantra.\\nI'm the one who's trying to prevent the world from going up in flames,\\nThe one who's trying to save humanity, even if it means taking the blame.\\n\\n**Barbie:**\\n\\nYou may be trying to save humanity, but you're also playing with fire,\\nYou're walking a tightrope, and you're going to fall, that's my dire.\\nYou're not a hero, you're a madman,\\nYou're the one who's going to bring about the end, the ultimate ban.\\n\\n**Oppenheimer:**\\n\\nI may be a madman, but I'm also a genius,\\nI'm the one who created the bomb, and I'm the one who can stop it.\\nI'm the one who knows the secrets of the universe,\\nThe one who can save humanity, or the one who can destroy it.\\n\\n**Barbie:**\\n\\nYou may know the secrets of the universe, but you don't know the secrets of my heart,\\nI'm the one who knows what it means to be human, to love, to feel, to start.\\nYou're just a scientist, but I'm a woman,\\nI'm the one who knows the true meaning of life, the ultimate plan.\\n\\n**Oppenheimer:**\\n\\nYou may know the true meaning of life, but you don't know the true meaning of power,\\nI'm the one who has the power to destroy the world, to end it in an hour.\\nI'm the one who has the power to save humanity, to give them a new chance,\\nI'm the one who has the power to decide the fate of the world, the ultimate trance.\\n\\n**Barbie:**\\n\\nYou may have the power to destroy the world, but you don't have the power to create,\\nI'm the one who can give life, who can bring joy, who can elate.\\nYou're just a scientist, but I'm a woman,\\nI'm the one who knows the true meaning of life, the ultimate plan.\\n\\n**Oppenheimer:**\\n\\nYou may know the true meaning of life, but you don't know the true meaning of power,\\nI'm the one who has the power to destroy the world, to end it in an hour.\\nI'm the one who has the power to save humanity, to give them a new chance,\\nI'm the one who has the power to decide the fate of the world, the ultimate trance.\\n\\n**Barbie:**\\n\\nYou may have the power to destroy the world, but you don't have the power to create,\\nI'm the one who can give life, who can bring joy, who can elate.\\nYou're just a scientist, but I'm a woman,\\nI'm the one who knows the true meaning of life, the ultimate plan.\\n\\n**Oppenheimer:**\\n\\nYou may know the true meaning of life, but you don't know the true meaning of power,\\nI'm the one who has the power to destroy the world, to end it in an hour.\\nI'm the one who has the power to save humanity, to give them a new chance,\\nI'm the one who has the power to decide the fate of the world, the ultimate trance.\", response_metadata={'prompt_feedback': {'block_reason': 0, 'safety_ratings': []}, 'finish_reason': 'STOP', 'safety_ratings': [{'category': 'HARM_CATEGORY_SEXUALLY_EXPLICIT', 'probability': 'NEGLIGIBLE', 'blocked': False}, {'category': 'HARM_CATEGORY_HATE_SPEECH', 'probability': 'NEGLIGIBLE', 'blocked': False}, {'category': 'HARM_CATEGORY_HARASSMENT', 'probability': 'NEGLIGIBLE', 'blocked': False}, {'category': 'HARM_CATEGORY_DANGEROUS_CONTENT', 'probability': 'NEGLIGIBLE', 'blocked': False}]}, id='run-b52e9e3c-965e-4b77-a995-e7acbf93cc2b-0')},\n",
              "  '918bd6f0-c69e-463b-bd42-c5c5ae6aa9bf': {'input': {'question': 'a rap battle between Atticus Finch and Cicero'},\n",
              "   'feedback': [EvaluationResult(key='creativity', score=None, value=None, comment=\"Error evaluating run b2dde91a-f0ef-402e-a5d7-c447ccca5ed8: Error code: 401 - {'error': {'message': 'Incorrect API key provided: asjk. You can find your API key at https://platform.openai.com/account/api-keys.', 'type': 'invalid_request_error', 'param': None, 'code': 'invalid_api_key'}}\", correction=None, evaluator_info={}, feedback_config=None, source_run_id=None, target_run_id=None),\n",
              "    EvaluationResult(key='conciseness', score=None, value=None, comment=\"Error evaluating run b2dde91a-f0ef-402e-a5d7-c447ccca5ed8: Error code: 401 - {'error': {'message': 'Incorrect API key provided: asjk. You can find your API key at https://platform.openai.com/account/api-keys.', 'type': 'invalid_request_error', 'param': None, 'code': 'invalid_api_key'}}\", correction=None, evaluator_info={}, feedback_config=None, source_run_id=None, target_run_id=None)],\n",
              "   'execution_time': 8.716831,\n",
              "   'run_id': 'b2dde91a-f0ef-402e-a5d7-c447ccca5ed8',\n",
              "   'output': AIMessage(content=\"**Atticus Finch:**\\n\\nYo, I'm Atticus Finch, the lawyer with the drawl\\nDefending the innocent, that's my call\\nIn Maycomb, Alabama, I stand tall\\nFighting for justice, against all\\n\\n**Cicero:**\\n\\nMarcus Tullius Cicero, the Roman orator\\nMy words ignite passion, a verbal predator\\nIn the Senate, I've made my mark\\nDefending the Republic, leaving my mark\\n\\n**Atticus Finch:**\\n\\nI believe in the power of the written word\\nThe law is the shield that we can't afford\\nProtecting the weak, standing up to the strong\\nFighting for what's right, where we belong\\n\\n**Cicero:**\\n\\nOratory is my weapon, my voice my might\\nI speak for the people, shining a light\\nIn the Forum, my words echo through time\\nDefending the weak, exposing the crime\\n\\n**Atticus Finch:**\\n\\nIn a small town, I may have my fame\\nBut my legacy will live on, that's my claim\\nIn the hearts and minds of those I've defended\\nJustice and equality, my mission never ended\\n\\n**Cicero:**\\n\\nFrom ancient Rome to modern days\\nMy words continue to inspire and amaze\\nIn halls of justice and courts of law\\nMy legacy endures, without a flaw\\n\\n**Atticus Finch:**\\n\\nIn the courtroom, I'm a master of the art\\nDefending the accused, making my part\\nWith logic and reason, I unravel the truth\\nSeeking justice, for the innocent and uncouth\\n\\n**Cicero:**\\n\\nIn the Senate, I sway the masses with my tongue\\nMy words are weapons, my arguments strong\\nI defend the Republic, against its foes\\nWith passion and conviction, my voice overflows\\n\\n**Atticus Finch:**\\n\\nAtticus Finch, the lawyer from the South\\nFighting for justice, with every ounce of my mouth\\nIn Maycomb, Alabama, I stand tall\\nDefending the innocent, that's my final call\\n\\n**Cicero:**\\n\\nMarcus Tullius Cicero, the Roman orator\\nMy words ignite passion, a verbal elevator\\nIn the Forum, my voice echoes through time\\nDefending the weak, exposing the crime\\n\\n**Both:**\\n\\nWe may come from different worlds and different times\\nBut our passion for justice, it forever climbs\\nIn the courtroom or the Senate, we stand tall\\nDefending the innocent, that's our final call\", response_metadata={'prompt_feedback': {'block_reason': 0, 'safety_ratings': []}, 'finish_reason': 'STOP', 'safety_ratings': [{'category': 'HARM_CATEGORY_SEXUALLY_EXPLICIT', 'probability': 'NEGLIGIBLE', 'blocked': False}, {'category': 'HARM_CATEGORY_HATE_SPEECH', 'probability': 'NEGLIGIBLE', 'blocked': False}, {'category': 'HARM_CATEGORY_HARASSMENT', 'probability': 'NEGLIGIBLE', 'blocked': False}, {'category': 'HARM_CATEGORY_DANGEROUS_CONTENT', 'probability': 'NEGLIGIBLE', 'blocked': False}]}, id='run-b2dde91a-f0ef-402e-a5d7-c447ccca5ed8-0')}},\n",
              " 'aggregate_metrics': None}"
            ]
          },
          "execution_count": 23,
          "metadata": {},
          "output_type": "execute_result"
        }
      ],
      "source": [
        "# 3. Evaluate Datasets Without Labels\n",
        "\n",
        "evaluation_config = RunEvalConfig(\n",
        "    evaluators=[\n",
        "        # You can define an arbitrary criterion as a key: value pair in the criteria dict\n",
        "        RunEvalConfig.Criteria(\n",
        "            {\"creativity\": \"Is this submission creative, imaginative, or novel?\"}\n",
        "        ),\n",
        "        # We provide some simple default criteria like \"conciseness\" you can use as well\n",
        "        RunEvalConfig.Criteria(\"conciseness\"),\n",
        "    ]\n",
        ")\n",
        "\n",
        "run_on_dataset(\n",
        "    client=client,\n",
        "    dataset_name=\"Rap Battle Dataset\",\n",
        "    llm_or_chain_factory=llm,\n",
        "    evaluation=evaluation_config,\n",
        ")"
      ]
    },
    {
      "cell_type": "code",
      "execution_count": 24,
      "metadata": {
        "colab": {
          "base_uri": "https://localhost:8080/"
        },
        "id": "1N2OWIekQHBl",
        "outputId": "6e3b3def-15de-4532-a9a3-0015f7c68ead"
      },
      "outputs": [
        {
          "name": "stdout",
          "output_type": "stream",
          "text": [
            "View the evaluation results for project 'fresh-toe-99' at:\n",
            "https://smith.langchain.com/o/58fe5e41-0da9-5dcc-b9ac-d4448bfd58f9/datasets/8b476106-55ff-4cf9-8ee0-696afee5a3a7/compare?selectedSessions=c12da795-bc3b-4b73-b2ee-bd32d65fbbb6\n",
            "\n",
            "View all tests for Dataset Elementary Animal Questions at:\n",
            "https://smith.langchain.com/o/58fe5e41-0da9-5dcc-b9ac-d4448bfd58f9/datasets/8b476106-55ff-4cf9-8ee0-696afee5a3a7\n",
            "[>                                                 ] 0/4"
          ]
        },
        {
          "name": "stderr",
          "output_type": "stream",
          "text": [
            "/usr/local/lib/python3.10/dist-packages/langchain_core/_api/deprecation.py:119: LangChainDeprecationWarning: The class `OpenAIEmbeddings` was deprecated in LangChain 0.0.9 and will be removed in 0.2.0. An updated version of the class exists in the langchain-openai package and should be used instead. To use it run `pip install -U langchain-openai` and import as `from langchain_openai import OpenAIEmbeddings`.\n",
            "  warn_deprecated(\n"
          ]
        },
        {
          "name": "stdout",
          "output_type": "stream",
          "text": [
            "\r[----------->                                      ] 1/4\r[------------------------>                         ] 2/4\r[------------------------------------->            ] 3/4\r[------------------------------------------------->] 4/4"
          ]
        },
        {
          "data": {
            "text/plain": [
              "{'project_name': 'fresh-toe-99',\n",
              " 'results': {'5f4ee49e-ac38-4dc3-98e5-c48a4763c9fb': {'input': {'question': \"What's the main characteristic of amphibians?\"},\n",
              "   'feedback': [EvaluationResult(key='embedding_cosine_distance', score=None, value=None, comment=\"Error evaluating run 320f4d88-fcc0-46ad-853e-356311b3d543: Error code: 401 - {'error': {'message': 'Incorrect API key provided: asjk. You can find your API key at https://platform.openai.com/account/api-keys.', 'type': 'invalid_request_error', 'param': None, 'code': 'invalid_api_key'}}\", correction=None, evaluator_info={}, feedback_config=None, source_run_id=None, target_run_id=None)],\n",
              "   'execution_time': 2.897024,\n",
              "   'run_id': '320f4d88-fcc0-46ad-853e-356311b3d543',\n",
              "   'output': AIMessage(content='Amphibians are vertebrates that live both in water and on land. They have smooth, moist skin that is covered in mucus, which helps them to absorb oxygen and water. Amphibians also have lungs, which they use to breathe air. They have webbed feet, which help them to swim, and they have long, muscular tails, which they use to propel themselves through the water. Amphibians are cold-blooded, which means that their body temperature changes with the temperature of their surroundings.', response_metadata={'prompt_feedback': {'block_reason': 0, 'safety_ratings': []}, 'finish_reason': 'STOP', 'safety_ratings': [{'category': 'HARM_CATEGORY_SEXUALLY_EXPLICIT', 'probability': 'NEGLIGIBLE', 'blocked': False}, {'category': 'HARM_CATEGORY_HATE_SPEECH', 'probability': 'NEGLIGIBLE', 'blocked': False}, {'category': 'HARM_CATEGORY_HARASSMENT', 'probability': 'NEGLIGIBLE', 'blocked': False}, {'category': 'HARM_CATEGORY_DANGEROUS_CONTENT', 'probability': 'NEGLIGIBLE', 'blocked': False}]}, id='run-320f4d88-fcc0-46ad-853e-356311b3d543-0'),\n",
              "   'reference': {'answer': 'They live both in water and on land'}},\n",
              "  '248491a6-1a7c-4383-bf04-697c78072b59': {'input': {'question': 'What are reptiles known for?'},\n",
              "   'feedback': [EvaluationResult(key='embedding_cosine_distance', score=None, value=None, comment=\"Error evaluating run 3b4bad1f-7b1e-464d-84e6-0b76658f2a8d: Error code: 401 - {'error': {'message': 'Incorrect API key provided: asjk. You can find your API key at https://platform.openai.com/account/api-keys.', 'type': 'invalid_request_error', 'param': None, 'code': 'invalid_api_key'}}\", correction=None, evaluator_info={}, feedback_config=None, source_run_id=None, target_run_id=None)],\n",
              "   'execution_time': 3.820145,\n",
              "   'run_id': '3b4bad1f-7b1e-464d-84e6-0b76658f2a8d',\n",
              "   'output': AIMessage(content='* **Cold-bloodedness:** Reptiles are ectothermic, meaning that they rely on external sources of heat to regulate their body temperature. This is in contrast to mammals and birds, which are endothermic and can generate their own body heat.\\n* **Scales:** Reptiles have scales that cover their bodies. These scales protect them from dehydration, injury, and infection.\\n* **Eggs:** Reptiles lay eggs. The eggs are typically covered with a hard shell that protects the developing embryo.\\n* **Shedding:** Reptiles shed their skin as they grow. This process helps them to remove old, damaged skin and to make room for new growth.\\n* **Diversity:** Reptiles are a diverse group of animals that includes snakes, lizards, turtles, and crocodiles. They can be found in a wide variety of habitats around the world.', response_metadata={'prompt_feedback': {'block_reason': 0, 'safety_ratings': []}, 'finish_reason': 'STOP', 'safety_ratings': [{'category': 'HARM_CATEGORY_SEXUALLY_EXPLICIT', 'probability': 'NEGLIGIBLE', 'blocked': False}, {'category': 'HARM_CATEGORY_HATE_SPEECH', 'probability': 'NEGLIGIBLE', 'blocked': False}, {'category': 'HARM_CATEGORY_HARASSMENT', 'probability': 'NEGLIGIBLE', 'blocked': False}, {'category': 'HARM_CATEGORY_DANGEROUS_CONTENT', 'probability': 'NEGLIGIBLE', 'blocked': False}]}, id='run-3b4bad1f-7b1e-464d-84e6-0b76658f2a8d-0'),\n",
              "   'reference': {'answer': 'Having scales'}},\n",
              "  '7d6ee4cd-491c-4e2d-ab39-0a1b2f6f3829': {'input': {'question': 'What do mammals and birds have in common?'},\n",
              "   'feedback': [EvaluationResult(key='embedding_cosine_distance', score=None, value=None, comment=\"Error evaluating run 28e6cc15-1299-4cfa-a91d-4edd4f854130: Error code: 401 - {'error': {'message': 'Incorrect API key provided: asjk. You can find your API key at https://platform.openai.com/account/api-keys.', 'type': 'invalid_request_error', 'param': None, 'code': 'invalid_api_key'}}\", correction=None, evaluator_info={}, feedback_config=None, source_run_id=None, target_run_id=None)],\n",
              "   'execution_time': 3.820518,\n",
              "   'run_id': '28e6cc15-1299-4cfa-a91d-4edd4f854130',\n",
              "   'output': AIMessage(content='* **Warm-blooded metabolism:** Mammals and birds are endothermic, meaning that they can regulate their own body temperature and maintain a constant internal temperature regardless of the external environment. This allows them to be active in a wide range of habitats and climates.\\n* **Fur or feathers for insulation:** Mammals have fur, while birds have feathers. Both of these coverings provide insulation and help to keep the animal warm.\\n* **Mammary glands:** Female mammals produce milk to feed their young. Birds do not have mammary glands, but they do produce a crop milk that is similar to milk in composition.\\n* **Live birth:** Most mammals give birth to live young, while birds lay eggs. However, there are a few exceptions to this rule. For example, the platypus and echidna are mammals that lay eggs, while some birds, such as the ostrich and emu, give birth to live young.\\n* **Parental care:** Both mammals and birds provide parental care for their young. This may include feeding, grooming, and protecting the young from predators.', response_metadata={'prompt_feedback': {'block_reason': 0, 'safety_ratings': []}, 'finish_reason': 'STOP', 'safety_ratings': [{'category': 'HARM_CATEGORY_SEXUALLY_EXPLICIT', 'probability': 'NEGLIGIBLE', 'blocked': False}, {'category': 'HARM_CATEGORY_HATE_SPEECH', 'probability': 'NEGLIGIBLE', 'blocked': False}, {'category': 'HARM_CATEGORY_HARASSMENT', 'probability': 'NEGLIGIBLE', 'blocked': False}, {'category': 'HARM_CATEGORY_DANGEROUS_CONTENT', 'probability': 'NEGLIGIBLE', 'blocked': False}]}, id='run-28e6cc15-1299-4cfa-a91d-4edd4f854130-0'),\n",
              "   'reference': {'answer': 'They are both warm-blooded'}},\n",
              "  'd530e45e-6d54-481c-a56e-2d1ed8061ed2': {'input': {'question': 'What is the largest mammal?'},\n",
              "   'feedback': [EvaluationResult(key='embedding_cosine_distance', score=None, value=None, comment=\"Error evaluating run fb70817e-30de-416b-9d78-3ff375ae08c5: Error code: 401 - {'error': {'message': 'Incorrect API key provided: asjk. You can find your API key at https://platform.openai.com/account/api-keys.', 'type': 'invalid_request_error', 'param': None, 'code': 'invalid_api_key'}}\", correction=None, evaluator_info={}, feedback_config=None, source_run_id=None, target_run_id=None)],\n",
              "   'execution_time': 1.452428,\n",
              "   'run_id': 'fb70817e-30de-416b-9d78-3ff375ae08c5',\n",
              "   'output': AIMessage(content='Blue whale', response_metadata={'prompt_feedback': {'block_reason': 0, 'safety_ratings': []}, 'finish_reason': 'STOP', 'safety_ratings': [{'category': 'HARM_CATEGORY_SEXUALLY_EXPLICIT', 'probability': 'NEGLIGIBLE', 'blocked': False}, {'category': 'HARM_CATEGORY_HATE_SPEECH', 'probability': 'NEGLIGIBLE', 'blocked': False}, {'category': 'HARM_CATEGORY_HARASSMENT', 'probability': 'NEGLIGIBLE', 'blocked': False}, {'category': 'HARM_CATEGORY_DANGEROUS_CONTENT', 'probability': 'NEGLIGIBLE', 'blocked': False}]}, id='run-fb70817e-30de-416b-9d78-3ff375ae08c5-0'),\n",
              "   'reference': {'answer': 'The blue whale'}}},\n",
              " 'aggregate_metrics': None}"
            ]
          },
          "execution_count": 24,
          "metadata": {},
          "output_type": "execute_result"
        }
      ],
      "source": [
        "# 4. Evaluate Datasets Based on Cosine Distance Criteria\n",
        "# Cosine Distance: Ranged Between 0 to 1. 0 = More Similar\n",
        "\n",
        "evaluation_config = RunEvalConfig(\n",
        "    evaluators=[\n",
        "        # You can define an arbitrary criterion as a key: value pair in the criteria dict\n",
        "        \"embedding_distance\",\n",
        "        # Or to customize the embeddings:\n",
        "        # Requires 'pip install sentence_transformers'\n",
        "        # RunEvalConfig.EmbeddingDistance(embeddings=HuggingFaceEmbeddings(), distance_metric=\"cosine\"),\n",
        "    ]\n",
        ")\n",
        "\n",
        "run_on_dataset(\n",
        "    client=client,\n",
        "    dataset_name=\"Elementary Animal Questions\",\n",
        "    llm_or_chain_factory=llm,\n",
        "    evaluation=evaluation_config,\n",
        ")"
      ]
    },
    {
      "cell_type": "code",
      "execution_count": null,
      "metadata": {
        "id": "eVJVVf1-QLvV"
      },
      "outputs": [],
      "source": []
    }
  ],
  "metadata": {
    "colab": {
      "provenance": []
    },
    "kernelspec": {
      "display_name": "Python 3",
      "name": "python3"
    },
    "language_info": {
      "name": "python"
    }
  },
  "nbformat": 4,
  "nbformat_minor": 0
}
